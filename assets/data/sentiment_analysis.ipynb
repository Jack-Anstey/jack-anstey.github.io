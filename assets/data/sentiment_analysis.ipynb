{
 "cells": [
  {
   "cell_type": "code",
   "execution_count": 124,
   "metadata": {
    "pycharm": {
     "name": "#%%\n"
    }
   },
   "outputs": [
    {
     "name": "stderr",
     "output_type": "stream",
     "text": [
      "[nltk_data] Downloading package vader_lexicon to\n",
      "[nltk_data]     C:\\Users\\annan\\AppData\\Roaming\\nltk_data...\n",
      "[nltk_data]   Package vader_lexicon is already up-to-date!\n",
      "[nltk_data] Downloading package punkt to\n",
      "[nltk_data]     C:\\Users\\annan\\AppData\\Roaming\\nltk_data...\n",
      "[nltk_data]   Package punkt is already up-to-date!\n",
      "[nltk_data] Downloading package wordnet to\n",
      "[nltk_data]     C:\\Users\\annan\\AppData\\Roaming\\nltk_data...\n",
      "[nltk_data]   Package wordnet is already up-to-date!\n",
      "[nltk_data] Downloading package omw-1.4 to\n",
      "[nltk_data]     C:\\Users\\annan\\AppData\\Roaming\\nltk_data...\n",
      "[nltk_data]   Package omw-1.4 is already up-to-date!\n"
     ]
    },
    {
     "data": {
      "text/plain": "True"
     },
     "execution_count": 124,
     "metadata": {},
     "output_type": "execute_result"
    }
   ],
   "source": [
    "#libraries used to extract, clean and manipulate the data\n",
    "import pandas as pd\n",
    "import numpy as np\n",
    "import string\n",
    "#To plot the graphs\n",
    "from wordcloud import WordCloud\n",
    "import matplotlib.pyplot as plt\n",
    "#library used to count the frequency of words\n",
    "import nltk\n",
    "from nltk.sentiment.vader import SentimentIntensityAnalyzer\n",
    "import nltk.data\n",
    "nltk.download('vader_lexicon')\n",
    "nltk.download('punkt')\n",
    "nltk.download('wordnet')\n",
    "nltk.download('omw-1.4')"
   ]
  },
  {
   "cell_type": "code",
   "execution_count": 125,
   "metadata": {
    "collapsed": true
   },
   "outputs": [
    {
     "name": "stdout",
     "output_type": "stream",
     "text": [
      "                                    song           artist       features  \\\n",
      "0                             Easy On Me            Adele            NaN   \n",
      "1              STAY (with Justin Bieber)    The Kid LAROI  Justin Bieber   \n",
      "2      INDUSTRY BABY (feat. Jack Harlow)        Lil Nas X    Jack Harlow   \n",
      "3                             Fancy Like     Walker Hayes            NaN   \n",
      "4                             Bad Habits       Ed Sheeran            NaN   \n",
      "...                                  ...              ...            ...   \n",
      "29675                               Judy  Frankie Vaughan            NaN   \n",
      "29676                                NaN              NaN            NaN   \n",
      "29677                                NaN              NaN            NaN   \n",
      "29678                                NaN              NaN            NaN   \n",
      "29679                                NaN              NaN            NaN   \n",
      "\n",
      "                     track_id release_date release_date_precision  \\\n",
      "0      0gplL1WMoJ6iYaPgMCL0gX   10/14/2021                    day   \n",
      "1      5HCyWlXZPP0y6Gqq8TgA20     7/9/2021                    day   \n",
      "2      27NovPIUIRrOZoCHxABJwK    7/23/2021                    day   \n",
      "3      58UKC45GPNTflCN6nwCUeF    1/21/2022                    day   \n",
      "4      3rmo8F54jFF8OgYsqTxm5d   10/29/2021                    day   \n",
      "...                       ...          ...                    ...   \n",
      "29675  0wYYxSus7NRhcC2aCPPAvX    5/28/2021                    day   \n",
      "29676                     NaN          NaN                    NaN   \n",
      "29677                     NaN          NaN                    NaN   \n",
      "29678                     NaN          NaN                    NaN   \n",
      "29679                     NaN          NaN                    NaN   \n",
      "\n",
      "       danceability  energy   key  loudness  ...  acousticness  \\\n",
      "0             0.604   0.366   5.0    -7.519  ...        0.5780   \n",
      "1             0.591   0.764   1.0    -5.484  ...        0.0383   \n",
      "2             0.736   0.704   3.0    -7.409  ...        0.0203   \n",
      "3             0.647   0.765   1.0    -6.459  ...        0.1110   \n",
      "4             0.807   0.893  11.0    -3.745  ...        0.0451   \n",
      "...             ...     ...   ...       ...  ...           ...   \n",
      "29675         0.350   0.465   9.0   -10.070  ...        0.8470   \n",
      "29676           NaN     NaN   NaN       NaN  ...           NaN   \n",
      "29677           NaN     NaN   NaN       NaN  ...           NaN   \n",
      "29678           NaN     NaN   NaN       NaN  ...           NaN   \n",
      "29679           NaN     NaN   NaN       NaN  ...           NaN   \n",
      "\n",
      "       instrumentalness  liveness  valence    tempo  time_signature  \\\n",
      "0              0.000000    0.1330    0.130  141.981             4.0   \n",
      "1              0.000000    0.1030    0.478  169.928             4.0   \n",
      "2              0.000000    0.0501    0.894  149.995             4.0   \n",
      "3              0.000000    0.3150    0.855   79.994             4.0   \n",
      "4              0.000028    0.3660    0.537  126.011             4.0   \n",
      "...                 ...       ...      ...      ...             ...   \n",
      "29675          0.000001    0.1320    0.681  176.492             4.0   \n",
      "29676               NaN       NaN      NaN      NaN             NaN   \n",
      "29677               NaN       NaN      NaN      NaN             NaN   \n",
      "29678               NaN       NaN      NaN      NaN             NaN   \n",
      "29679               NaN       NaN      NaN      NaN             NaN   \n",
      "\n",
      "       duration_ms                                             lyrics  \\\n",
      "0         224695.0  [Verse 1]\\nThere ain't no gold in this river\\n...   \n",
      "1         141806.0  [Chorus: The Kid LAROI]\\nI do the same thing I...   \n",
      "2         212000.0  [Intro: Lil Nas X]\\n(\\nD-D-Daytrip took it to ...   \n",
      "3         161853.0  [Verse 1]\\nAyy\\nMy girl is bangin', she's so l...   \n",
      "4         230747.0  [Intro]\\n(One, two, three, four)\\nOoh, ooh\\n[V...   \n",
      "...            ...                                                ...   \n",
      "29675     127160.0  If her voice can bring\\nEvery hope of Spring\\n...   \n",
      "29676          NaN                                                NaN   \n",
      "29677          NaN                                                NaN   \n",
      "29678          NaN                                                NaN   \n",
      "29679          NaN                                                NaN   \n",
      "\n",
      "       popularity peak-rank  \n",
      "0            85.0         1  \n",
      "1            89.0         1  \n",
      "2            86.0         1  \n",
      "3            78.0         3  \n",
      "4            89.0         2  \n",
      "...           ...       ...  \n",
      "29675         0.0        90  \n",
      "29676         NaN        96  \n",
      "29677         NaN        98  \n",
      "29678         NaN        99  \n",
      "29679         NaN       100  \n",
      "\n",
      "[29680 rows x 22 columns]\n"
     ]
    }
   ],
   "source": [
    "import pandas as pd\n",
    "df_not_clean = pd.read_csv('output.csv')\n",
    "print(df_not_clean)"
   ]
  },
  {
   "cell_type": "code",
   "execution_count": 126,
   "metadata": {
    "pycharm": {
     "name": "#%%\n"
    }
   },
   "outputs": [],
   "source": [
    "def clean_lyrics(df,column):\n",
    "    \"\"\"\n",
    "    This function cleans the words without importance and fix the format of the  dataframe's column lyrics\n",
    "    parameters:\n",
    "    df = dataframe\n",
    "    column = name of the column to clean\n",
    "    \"\"\"\n",
    "    df[column] = df[column].str.lower()\n",
    "    df[column] = df[column].str.replace(r\"verse |[1|2|3]|chorus|bridge|outro\",\"\").str.replace(\"[\",\"\").str.replace(\"]\",\"\")\n",
    "    df[column] = df[column].str.lower().str.replace(r\"instrumental|intro|guitar|solo\",\"\")\n",
    "    df[column] = df[column].str.replace(r\"\\\\n\",\" \")\n",
    "    df[column] = df[column].str.replace(r\"[^\\w\\d'\\s]+\",\"\")\n",
    "    df[column] = df[column].str.strip()\n",
    "    return df"
   ]
  },
  {
   "cell_type": "code",
   "execution_count": 127,
   "metadata": {
    "pycharm": {
     "name": "#%%\n"
    }
   },
   "outputs": [
    {
     "name": "stderr",
     "output_type": "stream",
     "text": [
      "C:\\Users\\annan\\AppData\\Local\\Temp\\ipykernel_30416\\1876489008.py:9: FutureWarning: The default value of regex will change from True to False in a future version.\n",
      "  df[column] = df[column].str.replace(r\"verse |[1|2|3]|chorus|bridge|outro\",\"\").str.replace(\"[\",\"\").str.replace(\"]\",\"\")\n",
      "C:\\Users\\annan\\AppData\\Local\\Temp\\ipykernel_30416\\1876489008.py:9: FutureWarning: The default value of regex will change from True to False in a future version. In addition, single character regular expressions will *not* be treated as literal strings when regex=True.\n",
      "  df[column] = df[column].str.replace(r\"verse |[1|2|3]|chorus|bridge|outro\",\"\").str.replace(\"[\",\"\").str.replace(\"]\",\"\")\n",
      "C:\\Users\\annan\\AppData\\Local\\Temp\\ipykernel_30416\\1876489008.py:10: FutureWarning: The default value of regex will change from True to False in a future version.\n",
      "  df[column] = df[column].str.lower().str.replace(r\"instrumental|intro|guitar|solo\",\"\")\n",
      "C:\\Users\\annan\\AppData\\Local\\Temp\\ipykernel_30416\\1876489008.py:11: FutureWarning: The default value of regex will change from True to False in a future version.\n",
      "  df[column] = df[column].str.replace(r\"\\\\n\",\" \")\n",
      "C:\\Users\\annan\\AppData\\Local\\Temp\\ipykernel_30416\\1876489008.py:12: FutureWarning: The default value of regex will change from True to False in a future version.\n",
      "  df[column] = df[column].str.replace(r\"[^\\w\\d'\\s]+\",\"\")\n",
      "C:\\Users\\annan\\AppData\\Local\\Temp\\ipykernel_30416\\1471321493.py:3: FutureWarning: The default value of regex will change from True to False in a future version.\n",
      "  df['no_contrac_lyrics'] = df['lyrics'].str.replace(r\"won\\'t\", \"will not\").str.replace(r\"can\\'t\", \"can not\").str.replace(r\"n\\'t\", \" not\").str.replace(r\"\\'re\", \" are\").str.replace(r\"\\'s\", \" is\").str.replace(r\"\\'d\", \" would\").str.replace(r\"\\'ll\", \" will\").str.replace(r\"\\'t\", \" not\").str.replace(r\"\\'ve\", \" have\").str.replace(r\"\\'m\", \" am\").str.replace('[{}]'.format(string.punctuation), '')\n",
      "C:\\Users\\annan\\AppData\\Local\\Temp\\ipykernel_30416\\1471321493.py:5: FutureWarning: The default value of regex will change from True to False in a future version.\n",
      "  df['lyrics'] = df['lyrics'].str.replace('[{}]'.format(string.punctuation), '')\n"
     ]
    },
    {
     "data": {
      "text/plain": "                                    song          artist           features  \\\n0                             Easy On Me           Adele                NaN   \n1              STAY (with Justin Bieber)   The Kid LAROI      Justin Bieber   \n2      INDUSTRY BABY (feat. Jack Harlow)       Lil Nas X        Jack Harlow   \n3                             Fancy Like    Walker Hayes                NaN   \n4                             Bad Habits      Ed Sheeran                NaN   \n5  Way 2 Sexy (with Future & Young Thug)           Drake  Future,Young Thug   \n6                                Shivers      Ed Sheeran                NaN   \n7                               good 4 u  Olivia Rodrigo                NaN   \n8                           Need to Know        Doja Cat                NaN   \n9              Levitating (feat. DaBaby)        Dua Lipa             DaBaby   \n\n                 track_id release_date release_date_precision  danceability  \\\n0  0gplL1WMoJ6iYaPgMCL0gX   10/14/2021                    day         0.604   \n1  5HCyWlXZPP0y6Gqq8TgA20     7/9/2021                    day         0.591   \n2  27NovPIUIRrOZoCHxABJwK    7/23/2021                    day         0.736   \n3  58UKC45GPNTflCN6nwCUeF    1/21/2022                    day         0.647   \n4  3rmo8F54jFF8OgYsqTxm5d   10/29/2021                    day         0.807   \n5  0k1WUmIRnG3xU6fvvDVfRG     9/3/2021                    day         0.803   \n6  50nfwKoDiSYg8zOCREWAm5   10/29/2021                    day         0.788   \n7  4ZtFanR9U6ndgddUvNcjcG    5/21/2021                    day         0.563   \n8  3Vi5XqYrmQgOYBajMWSvCi    6/25/2021                    day         0.664   \n9  5nujrmhLynf4yMoMtj8AQF    3/27/2020                    day         0.702   \n\n   energy   key  loudness  ...  instrumentalness  liveness  valence    tempo  \\\n0   0.366   5.0    -7.519  ...          0.000000    0.1330    0.130  141.981   \n1   0.764   1.0    -5.484  ...          0.000000    0.1030    0.478  169.928   \n2   0.704   3.0    -7.409  ...          0.000000    0.0501    0.894  149.995   \n3   0.765   1.0    -6.459  ...          0.000000    0.3150    0.855   79.994   \n4   0.893  11.0    -3.745  ...          0.000028    0.3660    0.537  126.011   \n5   0.597  11.0    -6.035  ...          0.000005    0.3230    0.331  136.008   \n6   0.859   2.0    -2.724  ...          0.000000    0.0424    0.822  141.020   \n7   0.664   9.0    -5.044  ...          0.000000    0.0849    0.688  166.928   \n8   0.609   1.0    -6.509  ...          0.000000    0.0926    0.194  130.041   \n9   0.825   6.0    -3.787  ...          0.000000    0.0674    0.915  102.977   \n\n   time_signature  duration_ms  \\\n0             4.0     224695.0   \n1             4.0     141806.0   \n2             4.0     212000.0   \n3             4.0     161853.0   \n4             4.0     230747.0   \n5             4.0     257605.0   \n6             4.0     207853.0   \n7             4.0     178147.0   \n8             4.0     210560.0   \n9             4.0     203064.0   \n\n                                              lyrics  popularity  peak-rank  \\\n0  there aint no gold in this river that ive been...        85.0          1   \n1  the kid laroi i do the same thing i told you t...        89.0          1   \n2  lil nas x  dddaytrip took it to ten hey  baby ...        86.0          1   \n3  ayy my girl is bangin shes so low maintenance ...        78.0          3   \n4  one two three four ooh ooh  every time you com...        89.0          2   \n5  right said fred  im too sexy for my shirt too ...        81.0          1   \n6  i took an arrow to the heart i never kissed a ...        88.0          7   \n7  ah  well good for you i guess you moved on rea...        88.0          1   \n8  yeah  wanna know what its like like baby show ...        84.0          9   \n9  if you wanna run away with me i know a galaxy ...        85.0          2   \n\n                                   no_contrac_lyrics  \n0  there ai not no gold in this river that i have...  \n1  the kid laroi i do the same thing i told you t...  \n2  lil nas x  dddaytrip took it to ten hey  baby ...  \n3  ayy my girl is bangin she is so low maintenanc...  \n4  one two three four ooh ooh  every time you com...  \n5  right said fred  i am too sexy for my shirt to...  \n6  i took an arrow to the heart i never kissed a ...  \n7  ah  well good for you i guess you moved on rea...  \n8  yeah  wanna know what it is like like baby sho...  \n9  if you wanna run away with me i know a galaxy ...  \n\n[10 rows x 23 columns]",
      "text/html": "<div>\n<style scoped>\n    .dataframe tbody tr th:only-of-type {\n        vertical-align: middle;\n    }\n\n    .dataframe tbody tr th {\n        vertical-align: top;\n    }\n\n    .dataframe thead th {\n        text-align: right;\n    }\n</style>\n<table border=\"1\" class=\"dataframe\">\n  <thead>\n    <tr style=\"text-align: right;\">\n      <th></th>\n      <th>song</th>\n      <th>artist</th>\n      <th>features</th>\n      <th>track_id</th>\n      <th>release_date</th>\n      <th>release_date_precision</th>\n      <th>danceability</th>\n      <th>energy</th>\n      <th>key</th>\n      <th>loudness</th>\n      <th>...</th>\n      <th>instrumentalness</th>\n      <th>liveness</th>\n      <th>valence</th>\n      <th>tempo</th>\n      <th>time_signature</th>\n      <th>duration_ms</th>\n      <th>lyrics</th>\n      <th>popularity</th>\n      <th>peak-rank</th>\n      <th>no_contrac_lyrics</th>\n    </tr>\n  </thead>\n  <tbody>\n    <tr>\n      <th>0</th>\n      <td>Easy On Me</td>\n      <td>Adele</td>\n      <td>NaN</td>\n      <td>0gplL1WMoJ6iYaPgMCL0gX</td>\n      <td>10/14/2021</td>\n      <td>day</td>\n      <td>0.604</td>\n      <td>0.366</td>\n      <td>5.0</td>\n      <td>-7.519</td>\n      <td>...</td>\n      <td>0.000000</td>\n      <td>0.1330</td>\n      <td>0.130</td>\n      <td>141.981</td>\n      <td>4.0</td>\n      <td>224695.0</td>\n      <td>there aint no gold in this river that ive been...</td>\n      <td>85.0</td>\n      <td>1</td>\n      <td>there ai not no gold in this river that i have...</td>\n    </tr>\n    <tr>\n      <th>1</th>\n      <td>STAY (with Justin Bieber)</td>\n      <td>The Kid LAROI</td>\n      <td>Justin Bieber</td>\n      <td>5HCyWlXZPP0y6Gqq8TgA20</td>\n      <td>7/9/2021</td>\n      <td>day</td>\n      <td>0.591</td>\n      <td>0.764</td>\n      <td>1.0</td>\n      <td>-5.484</td>\n      <td>...</td>\n      <td>0.000000</td>\n      <td>0.1030</td>\n      <td>0.478</td>\n      <td>169.928</td>\n      <td>4.0</td>\n      <td>141806.0</td>\n      <td>the kid laroi i do the same thing i told you t...</td>\n      <td>89.0</td>\n      <td>1</td>\n      <td>the kid laroi i do the same thing i told you t...</td>\n    </tr>\n    <tr>\n      <th>2</th>\n      <td>INDUSTRY BABY (feat. Jack Harlow)</td>\n      <td>Lil Nas X</td>\n      <td>Jack Harlow</td>\n      <td>27NovPIUIRrOZoCHxABJwK</td>\n      <td>7/23/2021</td>\n      <td>day</td>\n      <td>0.736</td>\n      <td>0.704</td>\n      <td>3.0</td>\n      <td>-7.409</td>\n      <td>...</td>\n      <td>0.000000</td>\n      <td>0.0501</td>\n      <td>0.894</td>\n      <td>149.995</td>\n      <td>4.0</td>\n      <td>212000.0</td>\n      <td>lil nas x  dddaytrip took it to ten hey  baby ...</td>\n      <td>86.0</td>\n      <td>1</td>\n      <td>lil nas x  dddaytrip took it to ten hey  baby ...</td>\n    </tr>\n    <tr>\n      <th>3</th>\n      <td>Fancy Like</td>\n      <td>Walker Hayes</td>\n      <td>NaN</td>\n      <td>58UKC45GPNTflCN6nwCUeF</td>\n      <td>1/21/2022</td>\n      <td>day</td>\n      <td>0.647</td>\n      <td>0.765</td>\n      <td>1.0</td>\n      <td>-6.459</td>\n      <td>...</td>\n      <td>0.000000</td>\n      <td>0.3150</td>\n      <td>0.855</td>\n      <td>79.994</td>\n      <td>4.0</td>\n      <td>161853.0</td>\n      <td>ayy my girl is bangin shes so low maintenance ...</td>\n      <td>78.0</td>\n      <td>3</td>\n      <td>ayy my girl is bangin she is so low maintenanc...</td>\n    </tr>\n    <tr>\n      <th>4</th>\n      <td>Bad Habits</td>\n      <td>Ed Sheeran</td>\n      <td>NaN</td>\n      <td>3rmo8F54jFF8OgYsqTxm5d</td>\n      <td>10/29/2021</td>\n      <td>day</td>\n      <td>0.807</td>\n      <td>0.893</td>\n      <td>11.0</td>\n      <td>-3.745</td>\n      <td>...</td>\n      <td>0.000028</td>\n      <td>0.3660</td>\n      <td>0.537</td>\n      <td>126.011</td>\n      <td>4.0</td>\n      <td>230747.0</td>\n      <td>one two three four ooh ooh  every time you com...</td>\n      <td>89.0</td>\n      <td>2</td>\n      <td>one two three four ooh ooh  every time you com...</td>\n    </tr>\n    <tr>\n      <th>5</th>\n      <td>Way 2 Sexy (with Future &amp; Young Thug)</td>\n      <td>Drake</td>\n      <td>Future,Young Thug</td>\n      <td>0k1WUmIRnG3xU6fvvDVfRG</td>\n      <td>9/3/2021</td>\n      <td>day</td>\n      <td>0.803</td>\n      <td>0.597</td>\n      <td>11.0</td>\n      <td>-6.035</td>\n      <td>...</td>\n      <td>0.000005</td>\n      <td>0.3230</td>\n      <td>0.331</td>\n      <td>136.008</td>\n      <td>4.0</td>\n      <td>257605.0</td>\n      <td>right said fred  im too sexy for my shirt too ...</td>\n      <td>81.0</td>\n      <td>1</td>\n      <td>right said fred  i am too sexy for my shirt to...</td>\n    </tr>\n    <tr>\n      <th>6</th>\n      <td>Shivers</td>\n      <td>Ed Sheeran</td>\n      <td>NaN</td>\n      <td>50nfwKoDiSYg8zOCREWAm5</td>\n      <td>10/29/2021</td>\n      <td>day</td>\n      <td>0.788</td>\n      <td>0.859</td>\n      <td>2.0</td>\n      <td>-2.724</td>\n      <td>...</td>\n      <td>0.000000</td>\n      <td>0.0424</td>\n      <td>0.822</td>\n      <td>141.020</td>\n      <td>4.0</td>\n      <td>207853.0</td>\n      <td>i took an arrow to the heart i never kissed a ...</td>\n      <td>88.0</td>\n      <td>7</td>\n      <td>i took an arrow to the heart i never kissed a ...</td>\n    </tr>\n    <tr>\n      <th>7</th>\n      <td>good 4 u</td>\n      <td>Olivia Rodrigo</td>\n      <td>NaN</td>\n      <td>4ZtFanR9U6ndgddUvNcjcG</td>\n      <td>5/21/2021</td>\n      <td>day</td>\n      <td>0.563</td>\n      <td>0.664</td>\n      <td>9.0</td>\n      <td>-5.044</td>\n      <td>...</td>\n      <td>0.000000</td>\n      <td>0.0849</td>\n      <td>0.688</td>\n      <td>166.928</td>\n      <td>4.0</td>\n      <td>178147.0</td>\n      <td>ah  well good for you i guess you moved on rea...</td>\n      <td>88.0</td>\n      <td>1</td>\n      <td>ah  well good for you i guess you moved on rea...</td>\n    </tr>\n    <tr>\n      <th>8</th>\n      <td>Need to Know</td>\n      <td>Doja Cat</td>\n      <td>NaN</td>\n      <td>3Vi5XqYrmQgOYBajMWSvCi</td>\n      <td>6/25/2021</td>\n      <td>day</td>\n      <td>0.664</td>\n      <td>0.609</td>\n      <td>1.0</td>\n      <td>-6.509</td>\n      <td>...</td>\n      <td>0.000000</td>\n      <td>0.0926</td>\n      <td>0.194</td>\n      <td>130.041</td>\n      <td>4.0</td>\n      <td>210560.0</td>\n      <td>yeah  wanna know what its like like baby show ...</td>\n      <td>84.0</td>\n      <td>9</td>\n      <td>yeah  wanna know what it is like like baby sho...</td>\n    </tr>\n    <tr>\n      <th>9</th>\n      <td>Levitating (feat. DaBaby)</td>\n      <td>Dua Lipa</td>\n      <td>DaBaby</td>\n      <td>5nujrmhLynf4yMoMtj8AQF</td>\n      <td>3/27/2020</td>\n      <td>day</td>\n      <td>0.702</td>\n      <td>0.825</td>\n      <td>6.0</td>\n      <td>-3.787</td>\n      <td>...</td>\n      <td>0.000000</td>\n      <td>0.0674</td>\n      <td>0.915</td>\n      <td>102.977</td>\n      <td>4.0</td>\n      <td>203064.0</td>\n      <td>if you wanna run away with me i know a galaxy ...</td>\n      <td>85.0</td>\n      <td>2</td>\n      <td>if you wanna run away with me i know a galaxy ...</td>\n    </tr>\n  </tbody>\n</table>\n<p>10 rows × 23 columns</p>\n</div>"
     },
     "execution_count": 127,
     "metadata": {},
     "output_type": "execute_result"
    }
   ],
   "source": [
    "df = clean_lyrics(df_not_clean,'lyrics')\n",
    "# remove contractions, its okay that is it not perfect, later the code will get rid of stop words and words that have less than 3 letters\n",
    "df['no_contrac_lyrics'] = df['lyrics'].str.replace(r\"won\\'t\", \"will not\").str.replace(r\"can\\'t\", \"can not\").str.replace(r\"n\\'t\", \" not\").str.replace(r\"\\'re\", \" are\").str.replace(r\"\\'s\", \" is\").str.replace(r\"\\'d\", \" would\").str.replace(r\"\\'ll\", \" will\").str.replace(r\"\\'t\", \" not\").str.replace(r\"\\'ve\", \" have\").str.replace(r\"\\'m\", \" am\").str.replace('[{}]'.format(string.punctuation), '')\n",
    "\n",
    "df['lyrics'] = df['lyrics'].str.replace('[{}]'.format(string.punctuation), '')\n",
    "\n",
    "#Filter  data to use songs that have lyrics.\n",
    "df = df[df['lyrics'].notnull()]\n",
    "\n",
    "df.head(10)"
   ]
  },
  {
   "cell_type": "code",
   "execution_count": 128,
   "metadata": {
    "pycharm": {
     "name": "#%%\n"
    }
   },
   "outputs": [
    {
     "data": {
      "text/plain": "                                    song          artist           features  \\\n0                             Easy On Me           Adele                NaN   \n1              STAY (with Justin Bieber)   The Kid LAROI      Justin Bieber   \n2      INDUSTRY BABY (feat. Jack Harlow)       Lil Nas X        Jack Harlow   \n3                             Fancy Like    Walker Hayes                NaN   \n4                             Bad Habits      Ed Sheeran                NaN   \n5  Way 2 Sexy (with Future & Young Thug)           Drake  Future,Young Thug   \n6                                Shivers      Ed Sheeran                NaN   \n7                               good 4 u  Olivia Rodrigo                NaN   \n8                           Need to Know        Doja Cat                NaN   \n9              Levitating (feat. DaBaby)        Dua Lipa             DaBaby   \n\n                 track_id release_date release_date_precision  danceability  \\\n0  0gplL1WMoJ6iYaPgMCL0gX   10/14/2021                    day         0.604   \n1  5HCyWlXZPP0y6Gqq8TgA20     7/9/2021                    day         0.591   \n2  27NovPIUIRrOZoCHxABJwK    7/23/2021                    day         0.736   \n3  58UKC45GPNTflCN6nwCUeF    1/21/2022                    day         0.647   \n4  3rmo8F54jFF8OgYsqTxm5d   10/29/2021                    day         0.807   \n5  0k1WUmIRnG3xU6fvvDVfRG     9/3/2021                    day         0.803   \n6  50nfwKoDiSYg8zOCREWAm5   10/29/2021                    day         0.788   \n7  4ZtFanR9U6ndgddUvNcjcG    5/21/2021                    day         0.563   \n8  3Vi5XqYrmQgOYBajMWSvCi    6/25/2021                    day         0.664   \n9  5nujrmhLynf4yMoMtj8AQF    3/27/2020                    day         0.702   \n\n   energy   key  loudness  ...  time_signature  duration_ms  \\\n0   0.366   5.0    -7.519  ...             4.0     224695.0   \n1   0.764   1.0    -5.484  ...             4.0     141806.0   \n2   0.704   3.0    -7.409  ...             4.0     212000.0   \n3   0.765   1.0    -6.459  ...             4.0     161853.0   \n4   0.893  11.0    -3.745  ...             4.0     230747.0   \n5   0.597  11.0    -6.035  ...             4.0     257605.0   \n6   0.859   2.0    -2.724  ...             4.0     207853.0   \n7   0.664   9.0    -5.044  ...             4.0     178147.0   \n8   0.609   1.0    -6.509  ...             4.0     210560.0   \n9   0.825   6.0    -3.787  ...             4.0     203064.0   \n\n                                              lyrics  popularity  peak-rank  \\\n0  there aint no gold in this river that ive been...        85.0          1   \n1  the kid laroi i do the same thing i told you t...        89.0          1   \n2  lil nas x  dddaytrip took it to ten hey  baby ...        86.0          1   \n3  ayy my girl is bangin shes so low maintenance ...        78.0          3   \n4  one two three four ooh ooh  every time you com...        89.0          2   \n5  right said fred  im too sexy for my shirt too ...        81.0          1   \n6  i took an arrow to the heart i never kissed a ...        88.0          7   \n7  ah  well good for you i guess you moved on rea...        88.0          1   \n8  yeah  wanna know what its like like baby show ...        84.0          9   \n9  if you wanna run away with me i know a galaxy ...        85.0          2   \n\n                                   no_contrac_lyrics  negative  neutral  \\\n0  there ai not no gold in this river that i have...     0.043    0.745   \n1  the kid laroi i do the same thing i told you t...     0.115    0.811   \n2  lil nas x  dddaytrip took it to ten hey  baby ...     0.028    0.753   \n3  ayy my girl is bangin she is so low maintenanc...     0.016    0.686   \n4  one two three four ooh ooh  every time you com...     0.197    0.723   \n5  right said fred  i am too sexy for my shirt to...     0.034    0.502   \n6  i took an arrow to the heart i never kissed a ...     0.023    0.766   \n7  ah  well good for you i guess you moved on rea...     0.054    0.682   \n8  yeah  wanna know what it is like like baby sho...     0.095    0.727   \n9  if you wanna run away with me i know a galaxy ...     0.012    0.836   \n\n   positive compound  \n0     0.211   0.9888  \n1     0.074  -0.8863  \n2     0.219   0.9921  \n3     0.298   0.9966  \n4     0.080  -0.9671  \n5     0.464   0.9994  \n6     0.211   0.9921  \n7     0.264   0.9968  \n8     0.178   0.9354  \n9     0.153   0.9722  \n\n[10 rows x 27 columns]",
      "text/html": "<div>\n<style scoped>\n    .dataframe tbody tr th:only-of-type {\n        vertical-align: middle;\n    }\n\n    .dataframe tbody tr th {\n        vertical-align: top;\n    }\n\n    .dataframe thead th {\n        text-align: right;\n    }\n</style>\n<table border=\"1\" class=\"dataframe\">\n  <thead>\n    <tr style=\"text-align: right;\">\n      <th></th>\n      <th>song</th>\n      <th>artist</th>\n      <th>features</th>\n      <th>track_id</th>\n      <th>release_date</th>\n      <th>release_date_precision</th>\n      <th>danceability</th>\n      <th>energy</th>\n      <th>key</th>\n      <th>loudness</th>\n      <th>...</th>\n      <th>time_signature</th>\n      <th>duration_ms</th>\n      <th>lyrics</th>\n      <th>popularity</th>\n      <th>peak-rank</th>\n      <th>no_contrac_lyrics</th>\n      <th>negative</th>\n      <th>neutral</th>\n      <th>positive</th>\n      <th>compound</th>\n    </tr>\n  </thead>\n  <tbody>\n    <tr>\n      <th>0</th>\n      <td>Easy On Me</td>\n      <td>Adele</td>\n      <td>NaN</td>\n      <td>0gplL1WMoJ6iYaPgMCL0gX</td>\n      <td>10/14/2021</td>\n      <td>day</td>\n      <td>0.604</td>\n      <td>0.366</td>\n      <td>5.0</td>\n      <td>-7.519</td>\n      <td>...</td>\n      <td>4.0</td>\n      <td>224695.0</td>\n      <td>there aint no gold in this river that ive been...</td>\n      <td>85.0</td>\n      <td>1</td>\n      <td>there ai not no gold in this river that i have...</td>\n      <td>0.043</td>\n      <td>0.745</td>\n      <td>0.211</td>\n      <td>0.9888</td>\n    </tr>\n    <tr>\n      <th>1</th>\n      <td>STAY (with Justin Bieber)</td>\n      <td>The Kid LAROI</td>\n      <td>Justin Bieber</td>\n      <td>5HCyWlXZPP0y6Gqq8TgA20</td>\n      <td>7/9/2021</td>\n      <td>day</td>\n      <td>0.591</td>\n      <td>0.764</td>\n      <td>1.0</td>\n      <td>-5.484</td>\n      <td>...</td>\n      <td>4.0</td>\n      <td>141806.0</td>\n      <td>the kid laroi i do the same thing i told you t...</td>\n      <td>89.0</td>\n      <td>1</td>\n      <td>the kid laroi i do the same thing i told you t...</td>\n      <td>0.115</td>\n      <td>0.811</td>\n      <td>0.074</td>\n      <td>-0.8863</td>\n    </tr>\n    <tr>\n      <th>2</th>\n      <td>INDUSTRY BABY (feat. Jack Harlow)</td>\n      <td>Lil Nas X</td>\n      <td>Jack Harlow</td>\n      <td>27NovPIUIRrOZoCHxABJwK</td>\n      <td>7/23/2021</td>\n      <td>day</td>\n      <td>0.736</td>\n      <td>0.704</td>\n      <td>3.0</td>\n      <td>-7.409</td>\n      <td>...</td>\n      <td>4.0</td>\n      <td>212000.0</td>\n      <td>lil nas x  dddaytrip took it to ten hey  baby ...</td>\n      <td>86.0</td>\n      <td>1</td>\n      <td>lil nas x  dddaytrip took it to ten hey  baby ...</td>\n      <td>0.028</td>\n      <td>0.753</td>\n      <td>0.219</td>\n      <td>0.9921</td>\n    </tr>\n    <tr>\n      <th>3</th>\n      <td>Fancy Like</td>\n      <td>Walker Hayes</td>\n      <td>NaN</td>\n      <td>58UKC45GPNTflCN6nwCUeF</td>\n      <td>1/21/2022</td>\n      <td>day</td>\n      <td>0.647</td>\n      <td>0.765</td>\n      <td>1.0</td>\n      <td>-6.459</td>\n      <td>...</td>\n      <td>4.0</td>\n      <td>161853.0</td>\n      <td>ayy my girl is bangin shes so low maintenance ...</td>\n      <td>78.0</td>\n      <td>3</td>\n      <td>ayy my girl is bangin she is so low maintenanc...</td>\n      <td>0.016</td>\n      <td>0.686</td>\n      <td>0.298</td>\n      <td>0.9966</td>\n    </tr>\n    <tr>\n      <th>4</th>\n      <td>Bad Habits</td>\n      <td>Ed Sheeran</td>\n      <td>NaN</td>\n      <td>3rmo8F54jFF8OgYsqTxm5d</td>\n      <td>10/29/2021</td>\n      <td>day</td>\n      <td>0.807</td>\n      <td>0.893</td>\n      <td>11.0</td>\n      <td>-3.745</td>\n      <td>...</td>\n      <td>4.0</td>\n      <td>230747.0</td>\n      <td>one two three four ooh ooh  every time you com...</td>\n      <td>89.0</td>\n      <td>2</td>\n      <td>one two three four ooh ooh  every time you com...</td>\n      <td>0.197</td>\n      <td>0.723</td>\n      <td>0.080</td>\n      <td>-0.9671</td>\n    </tr>\n    <tr>\n      <th>5</th>\n      <td>Way 2 Sexy (with Future &amp; Young Thug)</td>\n      <td>Drake</td>\n      <td>Future,Young Thug</td>\n      <td>0k1WUmIRnG3xU6fvvDVfRG</td>\n      <td>9/3/2021</td>\n      <td>day</td>\n      <td>0.803</td>\n      <td>0.597</td>\n      <td>11.0</td>\n      <td>-6.035</td>\n      <td>...</td>\n      <td>4.0</td>\n      <td>257605.0</td>\n      <td>right said fred  im too sexy for my shirt too ...</td>\n      <td>81.0</td>\n      <td>1</td>\n      <td>right said fred  i am too sexy for my shirt to...</td>\n      <td>0.034</td>\n      <td>0.502</td>\n      <td>0.464</td>\n      <td>0.9994</td>\n    </tr>\n    <tr>\n      <th>6</th>\n      <td>Shivers</td>\n      <td>Ed Sheeran</td>\n      <td>NaN</td>\n      <td>50nfwKoDiSYg8zOCREWAm5</td>\n      <td>10/29/2021</td>\n      <td>day</td>\n      <td>0.788</td>\n      <td>0.859</td>\n      <td>2.0</td>\n      <td>-2.724</td>\n      <td>...</td>\n      <td>4.0</td>\n      <td>207853.0</td>\n      <td>i took an arrow to the heart i never kissed a ...</td>\n      <td>88.0</td>\n      <td>7</td>\n      <td>i took an arrow to the heart i never kissed a ...</td>\n      <td>0.023</td>\n      <td>0.766</td>\n      <td>0.211</td>\n      <td>0.9921</td>\n    </tr>\n    <tr>\n      <th>7</th>\n      <td>good 4 u</td>\n      <td>Olivia Rodrigo</td>\n      <td>NaN</td>\n      <td>4ZtFanR9U6ndgddUvNcjcG</td>\n      <td>5/21/2021</td>\n      <td>day</td>\n      <td>0.563</td>\n      <td>0.664</td>\n      <td>9.0</td>\n      <td>-5.044</td>\n      <td>...</td>\n      <td>4.0</td>\n      <td>178147.0</td>\n      <td>ah  well good for you i guess you moved on rea...</td>\n      <td>88.0</td>\n      <td>1</td>\n      <td>ah  well good for you i guess you moved on rea...</td>\n      <td>0.054</td>\n      <td>0.682</td>\n      <td>0.264</td>\n      <td>0.9968</td>\n    </tr>\n    <tr>\n      <th>8</th>\n      <td>Need to Know</td>\n      <td>Doja Cat</td>\n      <td>NaN</td>\n      <td>3Vi5XqYrmQgOYBajMWSvCi</td>\n      <td>6/25/2021</td>\n      <td>day</td>\n      <td>0.664</td>\n      <td>0.609</td>\n      <td>1.0</td>\n      <td>-6.509</td>\n      <td>...</td>\n      <td>4.0</td>\n      <td>210560.0</td>\n      <td>yeah  wanna know what its like like baby show ...</td>\n      <td>84.0</td>\n      <td>9</td>\n      <td>yeah  wanna know what it is like like baby sho...</td>\n      <td>0.095</td>\n      <td>0.727</td>\n      <td>0.178</td>\n      <td>0.9354</td>\n    </tr>\n    <tr>\n      <th>9</th>\n      <td>Levitating (feat. DaBaby)</td>\n      <td>Dua Lipa</td>\n      <td>DaBaby</td>\n      <td>5nujrmhLynf4yMoMtj8AQF</td>\n      <td>3/27/2020</td>\n      <td>day</td>\n      <td>0.702</td>\n      <td>0.825</td>\n      <td>6.0</td>\n      <td>-3.787</td>\n      <td>...</td>\n      <td>4.0</td>\n      <td>203064.0</td>\n      <td>if you wanna run away with me i know a galaxy ...</td>\n      <td>85.0</td>\n      <td>2</td>\n      <td>if you wanna run away with me i know a galaxy ...</td>\n      <td>0.012</td>\n      <td>0.836</td>\n      <td>0.153</td>\n      <td>0.9722</td>\n    </tr>\n  </tbody>\n</table>\n<p>10 rows × 27 columns</p>\n</div>"
     },
     "execution_count": 128,
     "metadata": {},
     "output_type": "execute_result"
    }
   ],
   "source": [
    "#Create lists to store the different scores for each word\n",
    "df = df.reset_index(drop=True)\n",
    "\n",
    "negative = []\n",
    "neutral = []\n",
    "positive = []\n",
    "compound = []\n",
    "#Initialize the model\n",
    "sid = SentimentIntensityAnalyzer()\n",
    "#Iterate for each row of lyrics and append the scores\n",
    "# still use the original lyrics for sentiment score\n",
    "for i in df.index:\n",
    "    scores = sid.polarity_scores(df['lyrics'].iloc[i])\n",
    "    negative.append(scores['neg'])\n",
    "    neutral.append(scores['neu'])\n",
    "    positive.append(scores['pos'])\n",
    "    compound.append(scores['compound'])\n",
    "#Create 4 columns to the main data frame  for each score\n",
    "df['negative'] = negative\n",
    "df['neutral'] = neutral\n",
    "df['positive'] = positive\n",
    "df['compound'] = compound\n",
    "df.head(10)"
   ]
  },
  {
   "cell_type": "code",
   "execution_count": 129,
   "metadata": {
    "pycharm": {
     "name": "#%%\n"
    }
   },
   "outputs": [
    {
     "name": "stdout",
     "output_type": "stream",
     "text": [
      "(22125, 27)\n"
     ]
    },
    {
     "data": {
      "text/plain": "                                song         artist       features  \\\n0                         Easy On Me          Adele            NaN   \n1          STAY (with Justin Bieber)  The Kid LAROI  Justin Bieber   \n2  INDUSTRY BABY (feat. Jack Harlow)      Lil Nas X    Jack Harlow   \n3                         Fancy Like   Walker Hayes            NaN   \n4                         Bad Habits     Ed Sheeran            NaN   \n\n                 track_id  release_date release_date_precision  danceability  \\\n0  0gplL1WMoJ6iYaPgMCL0gX          2021                    day         0.604   \n1  5HCyWlXZPP0y6Gqq8TgA20          2021                    day         0.591   \n2  27NovPIUIRrOZoCHxABJwK          2021                    day         0.736   \n3  58UKC45GPNTflCN6nwCUeF          2022                    day         0.647   \n4  3rmo8F54jFF8OgYsqTxm5d          2021                    day         0.807   \n\n   energy   key  loudness  ...  time_signature  duration_ms  \\\n0   0.366   5.0    -7.519  ...             4.0     224695.0   \n1   0.764   1.0    -5.484  ...             4.0     141806.0   \n2   0.704   3.0    -7.409  ...             4.0     212000.0   \n3   0.765   1.0    -6.459  ...             4.0     161853.0   \n4   0.893  11.0    -3.745  ...             4.0     230747.0   \n\n                                              lyrics  popularity  peak-rank  \\\n0  there aint no gold in this river that ive been...        85.0          1   \n1  the kid laroi i do the same thing i told you t...        89.0          1   \n2  lil nas x  dddaytrip took it to ten hey  baby ...        86.0          1   \n3  ayy my girl is bangin shes so low maintenance ...        78.0          3   \n4  one two three four ooh ooh  every time you com...        89.0          2   \n\n                                   no_contrac_lyrics  negative  neutral  \\\n0  there ai not no gold in this river that i have...     0.043    0.745   \n1  the kid laroi i do the same thing i told you t...     0.115    0.811   \n2  lil nas x  dddaytrip took it to ten hey  baby ...     0.028    0.753   \n3  ayy my girl is bangin she is so low maintenanc...     0.016    0.686   \n4  one two three four ooh ooh  every time you com...     0.197    0.723   \n\n   positive compound  \n0     0.211   0.9888  \n1     0.074  -0.8863  \n2     0.219   0.9921  \n3     0.298   0.9966  \n4     0.080  -0.9671  \n\n[5 rows x 27 columns]",
      "text/html": "<div>\n<style scoped>\n    .dataframe tbody tr th:only-of-type {\n        vertical-align: middle;\n    }\n\n    .dataframe tbody tr th {\n        vertical-align: top;\n    }\n\n    .dataframe thead th {\n        text-align: right;\n    }\n</style>\n<table border=\"1\" class=\"dataframe\">\n  <thead>\n    <tr style=\"text-align: right;\">\n      <th></th>\n      <th>song</th>\n      <th>artist</th>\n      <th>features</th>\n      <th>track_id</th>\n      <th>release_date</th>\n      <th>release_date_precision</th>\n      <th>danceability</th>\n      <th>energy</th>\n      <th>key</th>\n      <th>loudness</th>\n      <th>...</th>\n      <th>time_signature</th>\n      <th>duration_ms</th>\n      <th>lyrics</th>\n      <th>popularity</th>\n      <th>peak-rank</th>\n      <th>no_contrac_lyrics</th>\n      <th>negative</th>\n      <th>neutral</th>\n      <th>positive</th>\n      <th>compound</th>\n    </tr>\n  </thead>\n  <tbody>\n    <tr>\n      <th>0</th>\n      <td>Easy On Me</td>\n      <td>Adele</td>\n      <td>NaN</td>\n      <td>0gplL1WMoJ6iYaPgMCL0gX</td>\n      <td>2021</td>\n      <td>day</td>\n      <td>0.604</td>\n      <td>0.366</td>\n      <td>5.0</td>\n      <td>-7.519</td>\n      <td>...</td>\n      <td>4.0</td>\n      <td>224695.0</td>\n      <td>there aint no gold in this river that ive been...</td>\n      <td>85.0</td>\n      <td>1</td>\n      <td>there ai not no gold in this river that i have...</td>\n      <td>0.043</td>\n      <td>0.745</td>\n      <td>0.211</td>\n      <td>0.9888</td>\n    </tr>\n    <tr>\n      <th>1</th>\n      <td>STAY (with Justin Bieber)</td>\n      <td>The Kid LAROI</td>\n      <td>Justin Bieber</td>\n      <td>5HCyWlXZPP0y6Gqq8TgA20</td>\n      <td>2021</td>\n      <td>day</td>\n      <td>0.591</td>\n      <td>0.764</td>\n      <td>1.0</td>\n      <td>-5.484</td>\n      <td>...</td>\n      <td>4.0</td>\n      <td>141806.0</td>\n      <td>the kid laroi i do the same thing i told you t...</td>\n      <td>89.0</td>\n      <td>1</td>\n      <td>the kid laroi i do the same thing i told you t...</td>\n      <td>0.115</td>\n      <td>0.811</td>\n      <td>0.074</td>\n      <td>-0.8863</td>\n    </tr>\n    <tr>\n      <th>2</th>\n      <td>INDUSTRY BABY (feat. Jack Harlow)</td>\n      <td>Lil Nas X</td>\n      <td>Jack Harlow</td>\n      <td>27NovPIUIRrOZoCHxABJwK</td>\n      <td>2021</td>\n      <td>day</td>\n      <td>0.736</td>\n      <td>0.704</td>\n      <td>3.0</td>\n      <td>-7.409</td>\n      <td>...</td>\n      <td>4.0</td>\n      <td>212000.0</td>\n      <td>lil nas x  dddaytrip took it to ten hey  baby ...</td>\n      <td>86.0</td>\n      <td>1</td>\n      <td>lil nas x  dddaytrip took it to ten hey  baby ...</td>\n      <td>0.028</td>\n      <td>0.753</td>\n      <td>0.219</td>\n      <td>0.9921</td>\n    </tr>\n    <tr>\n      <th>3</th>\n      <td>Fancy Like</td>\n      <td>Walker Hayes</td>\n      <td>NaN</td>\n      <td>58UKC45GPNTflCN6nwCUeF</td>\n      <td>2022</td>\n      <td>day</td>\n      <td>0.647</td>\n      <td>0.765</td>\n      <td>1.0</td>\n      <td>-6.459</td>\n      <td>...</td>\n      <td>4.0</td>\n      <td>161853.0</td>\n      <td>ayy my girl is bangin shes so low maintenance ...</td>\n      <td>78.0</td>\n      <td>3</td>\n      <td>ayy my girl is bangin she is so low maintenanc...</td>\n      <td>0.016</td>\n      <td>0.686</td>\n      <td>0.298</td>\n      <td>0.9966</td>\n    </tr>\n    <tr>\n      <th>4</th>\n      <td>Bad Habits</td>\n      <td>Ed Sheeran</td>\n      <td>NaN</td>\n      <td>3rmo8F54jFF8OgYsqTxm5d</td>\n      <td>2021</td>\n      <td>day</td>\n      <td>0.807</td>\n      <td>0.893</td>\n      <td>11.0</td>\n      <td>-3.745</td>\n      <td>...</td>\n      <td>4.0</td>\n      <td>230747.0</td>\n      <td>one two three four ooh ooh  every time you com...</td>\n      <td>89.0</td>\n      <td>2</td>\n      <td>one two three four ooh ooh  every time you com...</td>\n      <td>0.197</td>\n      <td>0.723</td>\n      <td>0.080</td>\n      <td>-0.9671</td>\n    </tr>\n  </tbody>\n</table>\n<p>5 rows × 27 columns</p>\n</div>"
     },
     "execution_count": 129,
     "metadata": {},
     "output_type": "execute_result"
    }
   ],
   "source": [
    "# exclude songs without a date\n",
    "df = df[df['release_date'].notna()]\n",
    "print(df.shape)\n",
    "# we only care about years so\n",
    "df['release_date'] = pd.to_datetime(df['release_date']).dt.year\n",
    "df.head()"
   ]
  },
  {
   "cell_type": "code",
   "execution_count": 130,
   "outputs": [
    {
     "data": {
      "text/plain": "                                song         artist       features  \\\n0                         Easy On Me          Adele            NaN   \n1          STAY (with Justin Bieber)  The Kid LAROI  Justin Bieber   \n2  INDUSTRY BABY (feat. Jack Harlow)      Lil Nas X    Jack Harlow   \n3                         Fancy Like   Walker Hayes            NaN   \n4                         Bad Habits     Ed Sheeran            NaN   \n\n                 track_id  release_date release_date_precision  danceability  \\\n0  0gplL1WMoJ6iYaPgMCL0gX          2021                    day         0.604   \n1  5HCyWlXZPP0y6Gqq8TgA20          2021                    day         0.591   \n2  27NovPIUIRrOZoCHxABJwK          2021                    day         0.736   \n3  58UKC45GPNTflCN6nwCUeF          2022                    day         0.647   \n4  3rmo8F54jFF8OgYsqTxm5d          2021                    day         0.807   \n\n   energy   key  loudness  ...  time_signature  duration_ms  \\\n0   0.366   5.0    -7.519  ...             4.0     224695.0   \n1   0.764   1.0    -5.484  ...             4.0     141806.0   \n2   0.704   3.0    -7.409  ...             4.0     212000.0   \n3   0.765   1.0    -6.459  ...             4.0     161853.0   \n4   0.893  11.0    -3.745  ...             4.0     230747.0   \n\n                                              lyrics  popularity  peak-rank  \\\n0  there aint no gold in this river that ive been...        85.0          1   \n1  the kid laroi i do the same thing i told you t...        89.0          1   \n2  lil nas x  dddaytrip took it to ten hey  baby ...        86.0          1   \n3  ayy my girl is bangin shes so low maintenance ...        78.0          3   \n4  one two three four ooh ooh  every time you com...        89.0          2   \n\n                                   no_contrac_lyrics  negative  neutral  \\\n0  there ai not no gold in this river that i have...     0.043    0.745   \n1  the kid laroi i do the same thing i told you t...     0.115    0.811   \n2  lil nas x  dddaytrip took it to ten hey  baby ...     0.028    0.753   \n3  ayy my girl is bangin she is so low maintenanc...     0.016    0.686   \n4  one two three four ooh ooh  every time you com...     0.197    0.723   \n\n   positive compound  \n0     0.211   0.9888  \n1     0.074  -0.8863  \n2     0.219   0.9921  \n3     0.298   0.9966  \n4     0.080  -0.9671  \n\n[5 rows x 27 columns]",
      "text/html": "<div>\n<style scoped>\n    .dataframe tbody tr th:only-of-type {\n        vertical-align: middle;\n    }\n\n    .dataframe tbody tr th {\n        vertical-align: top;\n    }\n\n    .dataframe thead th {\n        text-align: right;\n    }\n</style>\n<table border=\"1\" class=\"dataframe\">\n  <thead>\n    <tr style=\"text-align: right;\">\n      <th></th>\n      <th>song</th>\n      <th>artist</th>\n      <th>features</th>\n      <th>track_id</th>\n      <th>release_date</th>\n      <th>release_date_precision</th>\n      <th>danceability</th>\n      <th>energy</th>\n      <th>key</th>\n      <th>loudness</th>\n      <th>...</th>\n      <th>time_signature</th>\n      <th>duration_ms</th>\n      <th>lyrics</th>\n      <th>popularity</th>\n      <th>peak-rank</th>\n      <th>no_contrac_lyrics</th>\n      <th>negative</th>\n      <th>neutral</th>\n      <th>positive</th>\n      <th>compound</th>\n    </tr>\n  </thead>\n  <tbody>\n    <tr>\n      <th>0</th>\n      <td>Easy On Me</td>\n      <td>Adele</td>\n      <td>NaN</td>\n      <td>0gplL1WMoJ6iYaPgMCL0gX</td>\n      <td>2021</td>\n      <td>day</td>\n      <td>0.604</td>\n      <td>0.366</td>\n      <td>5.0</td>\n      <td>-7.519</td>\n      <td>...</td>\n      <td>4.0</td>\n      <td>224695.0</td>\n      <td>there aint no gold in this river that ive been...</td>\n      <td>85.0</td>\n      <td>1</td>\n      <td>there ai not no gold in this river that i have...</td>\n      <td>0.043</td>\n      <td>0.745</td>\n      <td>0.211</td>\n      <td>0.9888</td>\n    </tr>\n    <tr>\n      <th>1</th>\n      <td>STAY (with Justin Bieber)</td>\n      <td>The Kid LAROI</td>\n      <td>Justin Bieber</td>\n      <td>5HCyWlXZPP0y6Gqq8TgA20</td>\n      <td>2021</td>\n      <td>day</td>\n      <td>0.591</td>\n      <td>0.764</td>\n      <td>1.0</td>\n      <td>-5.484</td>\n      <td>...</td>\n      <td>4.0</td>\n      <td>141806.0</td>\n      <td>the kid laroi i do the same thing i told you t...</td>\n      <td>89.0</td>\n      <td>1</td>\n      <td>the kid laroi i do the same thing i told you t...</td>\n      <td>0.115</td>\n      <td>0.811</td>\n      <td>0.074</td>\n      <td>-0.8863</td>\n    </tr>\n    <tr>\n      <th>2</th>\n      <td>INDUSTRY BABY (feat. Jack Harlow)</td>\n      <td>Lil Nas X</td>\n      <td>Jack Harlow</td>\n      <td>27NovPIUIRrOZoCHxABJwK</td>\n      <td>2021</td>\n      <td>day</td>\n      <td>0.736</td>\n      <td>0.704</td>\n      <td>3.0</td>\n      <td>-7.409</td>\n      <td>...</td>\n      <td>4.0</td>\n      <td>212000.0</td>\n      <td>lil nas x  dddaytrip took it to ten hey  baby ...</td>\n      <td>86.0</td>\n      <td>1</td>\n      <td>lil nas x  dddaytrip took it to ten hey  baby ...</td>\n      <td>0.028</td>\n      <td>0.753</td>\n      <td>0.219</td>\n      <td>0.9921</td>\n    </tr>\n    <tr>\n      <th>3</th>\n      <td>Fancy Like</td>\n      <td>Walker Hayes</td>\n      <td>NaN</td>\n      <td>58UKC45GPNTflCN6nwCUeF</td>\n      <td>2022</td>\n      <td>day</td>\n      <td>0.647</td>\n      <td>0.765</td>\n      <td>1.0</td>\n      <td>-6.459</td>\n      <td>...</td>\n      <td>4.0</td>\n      <td>161853.0</td>\n      <td>ayy my girl is bangin shes so low maintenance ...</td>\n      <td>78.0</td>\n      <td>3</td>\n      <td>ayy my girl is bangin she is so low maintenanc...</td>\n      <td>0.016</td>\n      <td>0.686</td>\n      <td>0.298</td>\n      <td>0.9966</td>\n    </tr>\n    <tr>\n      <th>4</th>\n      <td>Bad Habits</td>\n      <td>Ed Sheeran</td>\n      <td>NaN</td>\n      <td>3rmo8F54jFF8OgYsqTxm5d</td>\n      <td>2021</td>\n      <td>day</td>\n      <td>0.807</td>\n      <td>0.893</td>\n      <td>11.0</td>\n      <td>-3.745</td>\n      <td>...</td>\n      <td>4.0</td>\n      <td>230747.0</td>\n      <td>one two three four ooh ooh  every time you com...</td>\n      <td>89.0</td>\n      <td>2</td>\n      <td>one two three four ooh ooh  every time you com...</td>\n      <td>0.197</td>\n      <td>0.723</td>\n      <td>0.080</td>\n      <td>-0.9671</td>\n    </tr>\n  </tbody>\n</table>\n<p>5 rows × 27 columns</p>\n</div>"
     },
     "execution_count": 130,
     "metadata": {},
     "output_type": "execute_result"
    }
   ],
   "source": [
    "df.to_csv('lyrics.csv',index=False)\n",
    "df2 = pd.read_csv('lyrics.csv')\n",
    "df2.head()"
   ],
   "metadata": {
    "collapsed": false,
    "pycharm": {
     "name": "#%%\n"
    }
   }
  },
  {
   "cell_type": "code",
   "execution_count": 131,
   "metadata": {
    "pycharm": {
     "name": "#%%\n"
    }
   },
   "outputs": [],
   "source": [
    "year = list(range(1958, 2022))\n",
    "df3 = pd.DataFrame(year, columns=['Year'])\n",
    "\n",
    "combine = []\n",
    "song_count = []\n",
    "for index1, row1 in df3.iterrows():\n",
    "    temp = ''\n",
    "    temp_count = 0\n",
    "    for index2, row2 in df2.iterrows():\n",
    "        if row2['release_date'] == row1['Year']:\n",
    "            temp = temp + ' ' + row2['no_contrac_lyrics']\n",
    "            temp_count = temp_count + 1\n",
    "    combine.append(temp)\n",
    "    song_count.append(temp_count)"
   ]
  },
  {
   "cell_type": "code",
   "execution_count": 132,
   "metadata": {
    "pycharm": {
     "name": "#%%\n"
    }
   },
   "outputs": [],
   "source": [
    "df3['Combine_Lyrics'] = combine\n",
    "df3['Songs_in_Year'] = song_count"
   ]
  },
  {
   "cell_type": "code",
   "execution_count": 133,
   "metadata": {
    "pycharm": {
     "name": "#%%\n"
    }
   },
   "outputs": [],
   "source": [
    "df3.to_csv('combine_lyrics_by_year.csv', index=False)"
   ]
  },
  {
   "cell_type": "code",
   "execution_count": 134,
   "outputs": [],
   "source": [
    "df4 = pd.read_csv('combine_lyrics_by_year.csv')"
   ],
   "metadata": {
    "collapsed": false,
    "pycharm": {
     "name": "#%%\n"
    }
   }
  },
  {
   "cell_type": "code",
   "execution_count": 135,
   "metadata": {
    "pycharm": {
     "name": "#%%\n"
    }
   },
   "outputs": [],
   "source": [
    "from nltk.corpus import stopwords\n",
    "import re\n",
    "STOPWORDS = set(stopwords.words('english'))\n",
    "exclude = set(string.punctuation)\n",
    "# TODO: add my own stop words?\n",
    "word_frequency_list = {}\n",
    "for index, row in df4.iterrows():\n",
    "    frequency = {}\n",
    "    text_string = row['Combine_Lyrics']\n",
    "    text_string =  ' '.join([word for word in text_string.split() if word not in STOPWORDS]) # delete stopwords from text\n",
    "    text_string = ''.join(ch for ch in text_string if ch not in exclude)\n",
    "    match_pattern = re.findall(r'\\b[a-z]{3,15}\\b', text_string)\n",
    "    for word in match_pattern:\n",
    "        count = frequency.get(word,0)\n",
    "        frequency[word] = count + 1\n",
    "    most_frequent = dict(sorted(frequency.items(), key=lambda elem: elem[1], reverse=True))\n",
    "    year = row['Year']\n",
    "    word_frequency_list[year] = most_frequent"
   ]
  },
  {
   "cell_type": "code",
   "execution_count": 136,
   "metadata": {
    "pycharm": {
     "name": "#%%\n"
    }
   },
   "outputs": [],
   "source": [
    "import json\n",
    "\n",
    "with open('word_frequency_list.json', 'w') as convert_file:\n",
    "     convert_file.write(json.dumps(word_frequency_list))"
   ]
  },
  {
   "cell_type": "code",
   "execution_count": 137,
   "metadata": {
    "pycharm": {
     "name": "#%%\n"
    }
   },
   "outputs": [],
   "source": [
    "f = open('word_frequency_list.json')\n",
    "score_count_test = json.load(f)"
   ]
  },
  {
   "cell_type": "code",
   "execution_count": 138,
   "outputs": [],
   "source": [
    "for key, value in score_count_test.items():\n",
    "    for key2, value2 in value.items():\n",
    "        score_count_test[key][key2] = {\"frequency\": value2, \"sentiment_score\":0.0, \"mycount\":0}"
   ],
   "metadata": {
    "collapsed": false,
    "pycharm": {
     "name": "#%%\n"
    }
   }
  },
  {
   "cell_type": "code",
   "execution_count": 139,
   "metadata": {
    "pycharm": {
     "name": "#%%\n"
    }
   },
   "outputs": [
    {
     "name": "stdout",
     "output_type": "stream",
     "text": [
      "1958\n",
      "done\n",
      "1959\n",
      "done\n",
      "1960\n",
      "done\n",
      "1961\n",
      "done\n",
      "1962\n",
      "done\n",
      "1963\n",
      "done\n",
      "1964\n",
      "done\n",
      "1965\n",
      "done\n",
      "1966\n",
      "done\n",
      "1967\n",
      "done\n",
      "1968\n",
      "done\n",
      "1969\n",
      "done\n",
      "1970\n",
      "done\n",
      "1971\n",
      "done\n",
      "1972\n",
      "done\n",
      "1973\n",
      "done\n",
      "1974\n",
      "done\n",
      "1975\n",
      "done\n",
      "1976\n",
      "done\n",
      "1977\n",
      "done\n",
      "1978\n",
      "done\n",
      "1979\n",
      "done\n",
      "1980\n",
      "done\n",
      "1981\n",
      "done\n",
      "1982\n",
      "done\n",
      "1983\n",
      "done\n",
      "1984\n",
      "done\n",
      "1985\n",
      "done\n",
      "1986\n",
      "done\n",
      "1987\n",
      "done\n",
      "1988\n",
      "done\n",
      "1989\n",
      "done\n",
      "1990\n",
      "done\n",
      "1991\n",
      "done\n",
      "1992\n",
      "done\n",
      "1993\n",
      "done\n",
      "1994\n",
      "done\n",
      "1995\n",
      "done\n",
      "1996\n",
      "done\n",
      "1997\n",
      "done\n",
      "1998\n",
      "done\n",
      "1999\n",
      "done\n",
      "2000\n",
      "done\n",
      "2001\n",
      "done\n",
      "2002\n",
      "done\n",
      "2003\n",
      "done\n",
      "2004\n",
      "done\n",
      "2005\n",
      "done\n",
      "2006\n",
      "done\n",
      "2007\n",
      "done\n",
      "2008\n",
      "done\n",
      "2009\n",
      "done\n",
      "2010\n",
      "done\n",
      "2011\n",
      "done\n",
      "2012\n",
      "done\n",
      "2013\n",
      "done\n",
      "2014\n",
      "done\n",
      "2015\n",
      "done\n",
      "2016\n",
      "done\n",
      "2017\n",
      "done\n",
      "2018\n",
      "done\n",
      "2019\n",
      "done\n",
      "2020\n",
      "done\n",
      "2021\n",
      "done\n"
     ]
    }
   ],
   "source": [
    "# for each year, go through each words in each songs in that year, and check if its the key in dictionary\n",
    "# if so, add 1 to mycount (in case some didnt get recognize but thats okay) and add sentiment scores together\n",
    "for i in list(range(1958, 2022)):\n",
    "    print(i)\n",
    "    for index, row in df2.iterrows():\n",
    "        if row['release_date'] == i:\n",
    "            words = row['no_contrac_lyrics'].split(\" \")\n",
    "            for word in words:\n",
    "                if word in score_count_test[str(i)]:\n",
    "                    score_count_test[str(i)][word][\"sentiment_score\"] += row['compound']\n",
    "                    score_count_test[str(i)][word][\"mycount\"] += 1\n",
    "                    # print(row['compound'])\n",
    "    print(\"done\")"
   ]
  },
  {
   "cell_type": "code",
   "execution_count": 140,
   "outputs": [],
   "source": [
    "with open('score_count_test.json', 'w') as convert_file:\n",
    "     convert_file.write(json.dumps(score_count_test))"
   ],
   "metadata": {
    "collapsed": false,
    "pycharm": {
     "name": "#%%\n"
    }
   }
  },
  {
   "cell_type": "code",
   "execution_count": 141,
   "outputs": [],
   "source": [
    "# divide total_sentiment_score by mycount to find average score of that word in that year\n",
    "fd = open('score_count_test.json')\n",
    "final_frequency_and_score = json.load(fd)\n",
    "keys_to_delete =[]\n",
    "for i in list(final_frequency_and_score.keys()):\n",
    "    # print(i)\n",
    "    for j in list(final_frequency_and_score[i].keys()):\n",
    "        temp_frequency = final_frequency_and_score[i][j]['mycount']\n",
    "        if temp_frequency == 0:\n",
    "            keys_to_delete.append([i, j])\n",
    "            del final_frequency_and_score[i][j]\n",
    "        else:\n",
    "            temp_score = final_frequency_and_score[i][j]['sentiment_score']/temp_frequency\n",
    "            final_frequency_and_score[i][j] = {'frequency':temp_frequency,'sentiment_score':temp_score}\n",
    "    # print(\"done\")"
   ],
   "metadata": {
    "collapsed": false,
    "pycharm": {
     "name": "#%%\n"
    }
   }
  },
  {
   "cell_type": "code",
   "execution_count": 142,
   "outputs": [],
   "source": [
    "with open('final_frequency_and_score.json', 'w') as convert_file:\n",
    "     convert_file.write(json.dumps(final_frequency_and_score))"
   ],
   "metadata": {
    "collapsed": false,
    "pycharm": {
     "name": "#%%\n"
    }
   }
  }
 ],
 "metadata": {
  "kernelspec": {
   "display_name": "Python 3 (ipykernel)",
   "language": "python",
   "name": "python3"
  },
  "language_info": {
   "codemirror_mode": {
    "name": "ipython",
    "version": 2
   },
   "file_extension": ".py",
   "mimetype": "text/x-python",
   "name": "python",
   "nbconvert_exporter": "python",
   "pygments_lexer": "ipython2",
   "version": "2.7.6"
  }
 },
 "nbformat": 4,
 "nbformat_minor": 1
}
{
 "cells": [
  {
   "cell_type": "code",
   "execution_count": 25,
   "outputs": [
    {
     "name": "stderr",
     "output_type": "stream",
     "text": [
      "[nltk_data] Downloading package vader_lexicon to\n",
      "[nltk_data]     C:\\Users\\annan\\AppData\\Roaming\\nltk_data...\n",
      "[nltk_data]   Package vader_lexicon is already up-to-date!\n",
      "[nltk_data] Downloading package punkt to\n",
      "[nltk_data]     C:\\Users\\annan\\AppData\\Roaming\\nltk_data...\n",
      "[nltk_data]   Package punkt is already up-to-date!\n",
      "[nltk_data] Downloading package wordnet to\n",
      "[nltk_data]     C:\\Users\\annan\\AppData\\Roaming\\nltk_data...\n",
      "[nltk_data]   Package wordnet is already up-to-date!\n",
      "[nltk_data] Downloading package omw-1.4 to\n",
      "[nltk_data]     C:\\Users\\annan\\AppData\\Roaming\\nltk_data...\n",
      "[nltk_data]   Package omw-1.4 is already up-to-date!\n"
     ]
    },
    {
     "data": {
      "text/plain": "True"
     },
     "execution_count": 25,
     "metadata": {},
     "output_type": "execute_result"
    }
   ],
   "source": [
    "#libraries used to extract, clean and manipulate the data\n",
    "import pandas as pd\n",
    "import numpy as np\n",
    "import string\n",
    "#To plot the graphs\n",
    "from wordcloud import WordCloud\n",
    "import matplotlib.pyplot as plt\n",
    "plt.style.use('seaborn')\n",
    "#library used to count the frequency of words\n",
    "from sklearn.feature_extraction.text import CountVectorizer\n",
    "#To create the sentiment analysis model, tokenization and lemmatization\n",
    "import nltk\n",
    "from nltk.sentiment.vader import SentimentIntensityAnalyzer\n",
    "from nltk import word_tokenize\n",
    "import nltk.data\n",
    "nltk.download('vader_lexicon')\n",
    "nltk.download('punkt')\n",
    "nltk.download('wordnet')\n",
    "nltk.download('omw-1.4')"
   ],
   "metadata": {
    "collapsed": false,
    "pycharm": {
     "name": "#%%\n"
    }
   }
  },
  {
   "cell_type": "code",
   "execution_count": 26,
   "metadata": {
    "collapsed": true
   },
   "outputs": [
    {
     "name": "stdout",
     "output_type": "stream",
     "text": [
      "                                    song           artist       features  \\\n",
      "0                             Easy On Me            Adele            NaN   \n",
      "1              STAY (with Justin Bieber)    The Kid LAROI  Justin Bieber   \n",
      "2      INDUSTRY BABY (feat. Jack Harlow)        Lil Nas X    Jack Harlow   \n",
      "3                             Fancy Like     Walker Hayes            NaN   \n",
      "4                             Bad Habits       Ed Sheeran            NaN   \n",
      "...                                  ...              ...            ...   \n",
      "29675                               Judy  Frankie Vaughan            NaN   \n",
      "29676                                NaN              NaN            NaN   \n",
      "29677                                NaN              NaN            NaN   \n",
      "29678                                NaN              NaN            NaN   \n",
      "29679                                NaN              NaN            NaN   \n",
      "\n",
      "                     track_id release_date release_date_precision  \\\n",
      "0      0gplL1WMoJ6iYaPgMCL0gX   10/14/2021                    day   \n",
      "1      5HCyWlXZPP0y6Gqq8TgA20     7/9/2021                    day   \n",
      "2      27NovPIUIRrOZoCHxABJwK    7/23/2021                    day   \n",
      "3      58UKC45GPNTflCN6nwCUeF    1/21/2022                    day   \n",
      "4      3rmo8F54jFF8OgYsqTxm5d   10/29/2021                    day   \n",
      "...                       ...          ...                    ...   \n",
      "29675  0wYYxSus7NRhcC2aCPPAvX    5/28/2021                    day   \n",
      "29676                     NaN          NaN                    NaN   \n",
      "29677                     NaN          NaN                    NaN   \n",
      "29678                     NaN          NaN                    NaN   \n",
      "29679                     NaN          NaN                    NaN   \n",
      "\n",
      "       danceability  energy   key  loudness  ...  acousticness  \\\n",
      "0             0.604   0.366   5.0    -7.519  ...        0.5780   \n",
      "1             0.591   0.764   1.0    -5.484  ...        0.0383   \n",
      "2             0.736   0.704   3.0    -7.409  ...        0.0203   \n",
      "3             0.647   0.765   1.0    -6.459  ...        0.1110   \n",
      "4             0.807   0.893  11.0    -3.745  ...        0.0451   \n",
      "...             ...     ...   ...       ...  ...           ...   \n",
      "29675         0.350   0.465   9.0   -10.070  ...        0.8470   \n",
      "29676           NaN     NaN   NaN       NaN  ...           NaN   \n",
      "29677           NaN     NaN   NaN       NaN  ...           NaN   \n",
      "29678           NaN     NaN   NaN       NaN  ...           NaN   \n",
      "29679           NaN     NaN   NaN       NaN  ...           NaN   \n",
      "\n",
      "       instrumentalness  liveness  valence    tempo  time_signature  \\\n",
      "0              0.000000    0.1330    0.130  141.981             4.0   \n",
      "1              0.000000    0.1030    0.478  169.928             4.0   \n",
      "2              0.000000    0.0501    0.894  149.995             4.0   \n",
      "3              0.000000    0.3150    0.855   79.994             4.0   \n",
      "4              0.000028    0.3660    0.537  126.011             4.0   \n",
      "...                 ...       ...      ...      ...             ...   \n",
      "29675          0.000001    0.1320    0.681  176.492             4.0   \n",
      "29676               NaN       NaN      NaN      NaN             NaN   \n",
      "29677               NaN       NaN      NaN      NaN             NaN   \n",
      "29678               NaN       NaN      NaN      NaN             NaN   \n",
      "29679               NaN       NaN      NaN      NaN             NaN   \n",
      "\n",
      "       duration_ms                                             lyrics  \\\n",
      "0         224695.0  [Verse 1]\\nThere ain't no gold in this river\\n...   \n",
      "1         141806.0  [Chorus: The Kid LAROI]\\nI do the same thing I...   \n",
      "2         212000.0  [Intro: Lil Nas X]\\n(\\nD-D-Daytrip took it to ...   \n",
      "3         161853.0  [Verse 1]\\nAyy\\nMy girl is bangin', she's so l...   \n",
      "4         230747.0  [Intro]\\n(One, two, three, four)\\nOoh, ooh\\n[V...   \n",
      "...            ...                                                ...   \n",
      "29675     127160.0  If her voice can bring\\nEvery hope of Spring\\n...   \n",
      "29676          NaN                                                NaN   \n",
      "29677          NaN                                                NaN   \n",
      "29678          NaN                                                NaN   \n",
      "29679          NaN                                                NaN   \n",
      "\n",
      "       popularity peak-rank  \n",
      "0            85.0         1  \n",
      "1            89.0         1  \n",
      "2            86.0         1  \n",
      "3            78.0         3  \n",
      "4            89.0         2  \n",
      "...           ...       ...  \n",
      "29675         0.0        90  \n",
      "29676         NaN        96  \n",
      "29677         NaN        98  \n",
      "29678         NaN        99  \n",
      "29679         NaN       100  \n",
      "\n",
      "[29680 rows x 22 columns]\n"
     ]
    }
   ],
   "source": [
    "import pandas as pd\n",
    "df_not_clean = pd.read_csv('output.csv')\n",
    "print(df_not_clean)"
   ]
  },
  {
   "cell_type": "code",
   "execution_count": 27,
   "outputs": [],
   "source": [
    "def clean_lyrics(df,column):\n",
    "    \"\"\"\n",
    "    This function cleans the words without importance and fix the format of the  dataframe's column lyrics\n",
    "    parameters:\n",
    "    df = dataframe\n",
    "    column = name of the column to clean\n",
    "    \"\"\"\n",
    "\n",
    "    df[column] = df[column].str.lower()\n",
    "    df[column] = df[column].str.replace(r\"verse |[1|2|3]|chorus|bridge|outro\",\"\").str.replace(\"[\",\"\").str.replace(\"]\",\"\")\n",
    "    df[column] = df[column].str.lower().str.replace(r\"instrumental|intro|guitar|solo\",\"\")\n",
    "    df[column] = df[column].str.replace(r\"\\\\n\",\" \")\n",
    "    df[column] = df[column].str.replace(r\"[^\\w\\d'\\s]+\",\"\")\n",
    "    df[column] = df[column].str.strip()\n",
    "    return df"
   ],
   "metadata": {
    "collapsed": false,
    "pycharm": {
     "name": "#%%\n"
    }
   }
  },
  {
   "cell_type": "code",
   "execution_count": 28,
   "outputs": [
    {
     "name": "stderr",
     "output_type": "stream",
     "text": [
      "C:\\Users\\annan\\AppData\\Local\\Temp\\ipykernel_19068\\889759071.py:10: FutureWarning: The default value of regex will change from True to False in a future version.\n",
      "  df[column] = df[column].str.replace(r\"verse |[1|2|3]|chorus|bridge|outro\",\"\").str.replace(\"[\",\"\").str.replace(\"]\",\"\")\n",
      "C:\\Users\\annan\\AppData\\Local\\Temp\\ipykernel_19068\\889759071.py:10: FutureWarning: The default value of regex will change from True to False in a future version. In addition, single character regular expressions will *not* be treated as literal strings when regex=True.\n",
      "  df[column] = df[column].str.replace(r\"verse |[1|2|3]|chorus|bridge|outro\",\"\").str.replace(\"[\",\"\").str.replace(\"]\",\"\")\n",
      "C:\\Users\\annan\\AppData\\Local\\Temp\\ipykernel_19068\\889759071.py:11: FutureWarning: The default value of regex will change from True to False in a future version.\n",
      "  df[column] = df[column].str.lower().str.replace(r\"instrumental|intro|guitar|solo\",\"\")\n",
      "C:\\Users\\annan\\AppData\\Local\\Temp\\ipykernel_19068\\889759071.py:12: FutureWarning: The default value of regex will change from True to False in a future version.\n",
      "  df[column] = df[column].str.replace(r\"\\\\n\",\" \")\n",
      "C:\\Users\\annan\\AppData\\Local\\Temp\\ipykernel_19068\\889759071.py:13: FutureWarning: The default value of regex will change from True to False in a future version.\n",
      "  df[column] = df[column].str.replace(r\"[^\\w\\d'\\s]+\",\"\")\n"
     ]
    },
    {
     "data": {
      "text/plain": "0    there ain't no gold in this river that i've be...\n1    the kid laroi i do the same thing i told you t...\n2    lil nas x  dddaytrip took it to ten hey  baby ...\n3    ayy my girl is bangin' she's so low maintenanc...\n4    one two three four ooh ooh  every time you com...\n5    right said fred  i'm too sexy for my shirt too...\n6    i took an arrow to the heart i never kissed a ...\n7    ah  well good for you i guess you moved on rea...\n8    yeah  wanna know what it's like like baby show...\n9    if you wanna run away with me i know a galaxy ...\nName: lyrics, dtype: object"
     },
     "execution_count": 28,
     "metadata": {},
     "output_type": "execute_result"
    }
   ],
   "source": [
    "df = clean_lyrics(df_not_clean,'lyrics')\n",
    "#Create the decades column\n",
    "#Filter  data to use songs that have lyrics.\n",
    "df = df[df['lyrics'].notnull()]\n",
    "#Save the data into a csv file\n",
    "df['lyrics'].head(10)"
   ],
   "metadata": {
    "collapsed": false,
    "pycharm": {
     "name": "#%%\n"
    }
   }
  },
  {
   "cell_type": "code",
   "execution_count": 29,
   "outputs": [],
   "source": [
    "def unique(list1):\n",
    "   # intilize a null list\n",
    "     unique_list = []\n",
    "   # traverse for all elements\n",
    "     for x in list1:\n",
    "         # check if exists in unique_list or not\n",
    "         if x not in unique_list:\n",
    "              unique_list.append(x)\n",
    "     return unique_list"
   ],
   "metadata": {
    "collapsed": false,
    "pycharm": {
     "name": "#%%\n"
    }
   }
  },
  {
   "cell_type": "code",
   "execution_count": 30,
   "outputs": [],
   "source": [
    "from nltk import WordNetLemmatizer\n",
    "from nltk.corpus import stopwords\n",
    "\n",
    "\n",
    "def lyrics_to_words(document):\n",
    "    \"\"\"\n",
    "    This function splits the text of lyrics to  single words, removing stopwords and doing the lemmatization to each word\n",
    "    parameters:\n",
    "    document: text to split to single words\n",
    "    \"\"\"\n",
    "    stop_words = set(stopwords.words('english'))\n",
    "    exclude = set(string.punctuation)\n",
    "    lemma = WordNetLemmatizer()\n",
    "    stopwordremoval = \" \".join([i for i in document.lower().split() if i not in stop_words])\n",
    "    punctuationremoval = ''.join(ch for ch in stopwordremoval if ch not in exclude)\n",
    "    normalized = \" \".join(lemma.lemmatize(word) for word in punctuationremoval.split())\n",
    "    return normalized"
   ],
   "metadata": {
    "collapsed": false,
    "pycharm": {
     "name": "#%%\n"
    }
   }
  },
  {
   "cell_type": "code",
   "execution_count": 31,
   "outputs": [
    {
     "data": {
      "text/plain": "                                    song          artist           features  \\\n0                             Easy On Me           Adele                NaN   \n1              STAY (with Justin Bieber)   The Kid LAROI      Justin Bieber   \n2      INDUSTRY BABY (feat. Jack Harlow)       Lil Nas X        Jack Harlow   \n3                             Fancy Like    Walker Hayes                NaN   \n4                             Bad Habits      Ed Sheeran                NaN   \n5  Way 2 Sexy (with Future & Young Thug)           Drake  Future,Young Thug   \n6                                Shivers      Ed Sheeran                NaN   \n7                               good 4 u  Olivia Rodrigo                NaN   \n8                           Need to Know        Doja Cat                NaN   \n9              Levitating (feat. DaBaby)        Dua Lipa             DaBaby   \n\n                 track_id release_date release_date_precision  danceability  \\\n0  0gplL1WMoJ6iYaPgMCL0gX   10/14/2021                    day         0.604   \n1  5HCyWlXZPP0y6Gqq8TgA20     7/9/2021                    day         0.591   \n2  27NovPIUIRrOZoCHxABJwK    7/23/2021                    day         0.736   \n3  58UKC45GPNTflCN6nwCUeF    1/21/2022                    day         0.647   \n4  3rmo8F54jFF8OgYsqTxm5d   10/29/2021                    day         0.807   \n5  0k1WUmIRnG3xU6fvvDVfRG     9/3/2021                    day         0.803   \n6  50nfwKoDiSYg8zOCREWAm5   10/29/2021                    day         0.788   \n7  4ZtFanR9U6ndgddUvNcjcG    5/21/2021                    day         0.563   \n8  3Vi5XqYrmQgOYBajMWSvCi    6/25/2021                    day         0.664   \n9  5nujrmhLynf4yMoMtj8AQF    3/27/2020                    day         0.702   \n\n   energy   key  loudness  ...  instrumentalness  liveness  valence    tempo  \\\n0   0.366   5.0    -7.519  ...          0.000000    0.1330    0.130  141.981   \n1   0.764   1.0    -5.484  ...          0.000000    0.1030    0.478  169.928   \n2   0.704   3.0    -7.409  ...          0.000000    0.0501    0.894  149.995   \n3   0.765   1.0    -6.459  ...          0.000000    0.3150    0.855   79.994   \n4   0.893  11.0    -3.745  ...          0.000028    0.3660    0.537  126.011   \n5   0.597  11.0    -6.035  ...          0.000005    0.3230    0.331  136.008   \n6   0.859   2.0    -2.724  ...          0.000000    0.0424    0.822  141.020   \n7   0.664   9.0    -5.044  ...          0.000000    0.0849    0.688  166.928   \n8   0.609   1.0    -6.509  ...          0.000000    0.0926    0.194  130.041   \n9   0.825   6.0    -3.787  ...          0.000000    0.0674    0.915  102.977   \n\n   time_signature  duration_ms  \\\n0             4.0     224695.0   \n1             4.0     141806.0   \n2             4.0     212000.0   \n3             4.0     161853.0   \n4             4.0     230747.0   \n5             4.0     257605.0   \n6             4.0     207853.0   \n7             4.0     178147.0   \n8             4.0     210560.0   \n9             4.0     203064.0   \n\n                                              lyrics  popularity  peak-rank  \\\n0  there ain't no gold in this river that i've be...        85.0          1   \n1  the kid laroi i do the same thing i told you t...        89.0          1   \n2  lil nas x  dddaytrip took it to ten hey  baby ...        86.0          1   \n3  ayy my girl is bangin' she's so low maintenanc...        78.0          3   \n4  one two three four ooh ooh  every time you com...        89.0          2   \n5  right said fred  i'm too sexy for my shirt too...        81.0          1   \n6  i took an arrow to the heart i never kissed a ...        88.0          7   \n7  ah  well good for you i guess you moved on rea...        88.0          1   \n8  yeah  wanna know what it's like like baby show...        84.0          9   \n9  if you wanna run away with me i know a galaxy ...        85.0          2   \n\n                                               words  \n0  [aint, gold, river, ive, washin, hand, forever...  \n1  [kid, laroi, thing, told, never, would, id, ch...  \n2  [lil, na, x, dddaytrip, took, ten, hey, baby, ...  \n3  [ayy, girl, bangin, low, maintenance, need, ch...  \n4  [one, two, three, four, ooh, every, time, come...  \n5  [right, said, fred, im, sexy, shirt, hurt, mil...  \n6  [took, arrow, heart, never, kissed, mouth, tas...  \n7  [ah, well, good, guess, moved, really, easily,...  \n8  [yeah, wanna, know, like, baby, show, really, ...  \n9  [wanna, run, away, know, galaxy, take, ride, p...  \n\n[10 rows x 23 columns]",
      "text/html": "<div>\n<style scoped>\n    .dataframe tbody tr th:only-of-type {\n        vertical-align: middle;\n    }\n\n    .dataframe tbody tr th {\n        vertical-align: top;\n    }\n\n    .dataframe thead th {\n        text-align: right;\n    }\n</style>\n<table border=\"1\" class=\"dataframe\">\n  <thead>\n    <tr style=\"text-align: right;\">\n      <th></th>\n      <th>song</th>\n      <th>artist</th>\n      <th>features</th>\n      <th>track_id</th>\n      <th>release_date</th>\n      <th>release_date_precision</th>\n      <th>danceability</th>\n      <th>energy</th>\n      <th>key</th>\n      <th>loudness</th>\n      <th>...</th>\n      <th>instrumentalness</th>\n      <th>liveness</th>\n      <th>valence</th>\n      <th>tempo</th>\n      <th>time_signature</th>\n      <th>duration_ms</th>\n      <th>lyrics</th>\n      <th>popularity</th>\n      <th>peak-rank</th>\n      <th>words</th>\n    </tr>\n  </thead>\n  <tbody>\n    <tr>\n      <th>0</th>\n      <td>Easy On Me</td>\n      <td>Adele</td>\n      <td>NaN</td>\n      <td>0gplL1WMoJ6iYaPgMCL0gX</td>\n      <td>10/14/2021</td>\n      <td>day</td>\n      <td>0.604</td>\n      <td>0.366</td>\n      <td>5.0</td>\n      <td>-7.519</td>\n      <td>...</td>\n      <td>0.000000</td>\n      <td>0.1330</td>\n      <td>0.130</td>\n      <td>141.981</td>\n      <td>4.0</td>\n      <td>224695.0</td>\n      <td>there ain't no gold in this river that i've be...</td>\n      <td>85.0</td>\n      <td>1</td>\n      <td>[aint, gold, river, ive, washin, hand, forever...</td>\n    </tr>\n    <tr>\n      <th>1</th>\n      <td>STAY (with Justin Bieber)</td>\n      <td>The Kid LAROI</td>\n      <td>Justin Bieber</td>\n      <td>5HCyWlXZPP0y6Gqq8TgA20</td>\n      <td>7/9/2021</td>\n      <td>day</td>\n      <td>0.591</td>\n      <td>0.764</td>\n      <td>1.0</td>\n      <td>-5.484</td>\n      <td>...</td>\n      <td>0.000000</td>\n      <td>0.1030</td>\n      <td>0.478</td>\n      <td>169.928</td>\n      <td>4.0</td>\n      <td>141806.0</td>\n      <td>the kid laroi i do the same thing i told you t...</td>\n      <td>89.0</td>\n      <td>1</td>\n      <td>[kid, laroi, thing, told, never, would, id, ch...</td>\n    </tr>\n    <tr>\n      <th>2</th>\n      <td>INDUSTRY BABY (feat. Jack Harlow)</td>\n      <td>Lil Nas X</td>\n      <td>Jack Harlow</td>\n      <td>27NovPIUIRrOZoCHxABJwK</td>\n      <td>7/23/2021</td>\n      <td>day</td>\n      <td>0.736</td>\n      <td>0.704</td>\n      <td>3.0</td>\n      <td>-7.409</td>\n      <td>...</td>\n      <td>0.000000</td>\n      <td>0.0501</td>\n      <td>0.894</td>\n      <td>149.995</td>\n      <td>4.0</td>\n      <td>212000.0</td>\n      <td>lil nas x  dddaytrip took it to ten hey  baby ...</td>\n      <td>86.0</td>\n      <td>1</td>\n      <td>[lil, na, x, dddaytrip, took, ten, hey, baby, ...</td>\n    </tr>\n    <tr>\n      <th>3</th>\n      <td>Fancy Like</td>\n      <td>Walker Hayes</td>\n      <td>NaN</td>\n      <td>58UKC45GPNTflCN6nwCUeF</td>\n      <td>1/21/2022</td>\n      <td>day</td>\n      <td>0.647</td>\n      <td>0.765</td>\n      <td>1.0</td>\n      <td>-6.459</td>\n      <td>...</td>\n      <td>0.000000</td>\n      <td>0.3150</td>\n      <td>0.855</td>\n      <td>79.994</td>\n      <td>4.0</td>\n      <td>161853.0</td>\n      <td>ayy my girl is bangin' she's so low maintenanc...</td>\n      <td>78.0</td>\n      <td>3</td>\n      <td>[ayy, girl, bangin, low, maintenance, need, ch...</td>\n    </tr>\n    <tr>\n      <th>4</th>\n      <td>Bad Habits</td>\n      <td>Ed Sheeran</td>\n      <td>NaN</td>\n      <td>3rmo8F54jFF8OgYsqTxm5d</td>\n      <td>10/29/2021</td>\n      <td>day</td>\n      <td>0.807</td>\n      <td>0.893</td>\n      <td>11.0</td>\n      <td>-3.745</td>\n      <td>...</td>\n      <td>0.000028</td>\n      <td>0.3660</td>\n      <td>0.537</td>\n      <td>126.011</td>\n      <td>4.0</td>\n      <td>230747.0</td>\n      <td>one two three four ooh ooh  every time you com...</td>\n      <td>89.0</td>\n      <td>2</td>\n      <td>[one, two, three, four, ooh, every, time, come...</td>\n    </tr>\n    <tr>\n      <th>5</th>\n      <td>Way 2 Sexy (with Future &amp; Young Thug)</td>\n      <td>Drake</td>\n      <td>Future,Young Thug</td>\n      <td>0k1WUmIRnG3xU6fvvDVfRG</td>\n      <td>9/3/2021</td>\n      <td>day</td>\n      <td>0.803</td>\n      <td>0.597</td>\n      <td>11.0</td>\n      <td>-6.035</td>\n      <td>...</td>\n      <td>0.000005</td>\n      <td>0.3230</td>\n      <td>0.331</td>\n      <td>136.008</td>\n      <td>4.0</td>\n      <td>257605.0</td>\n      <td>right said fred  i'm too sexy for my shirt too...</td>\n      <td>81.0</td>\n      <td>1</td>\n      <td>[right, said, fred, im, sexy, shirt, hurt, mil...</td>\n    </tr>\n    <tr>\n      <th>6</th>\n      <td>Shivers</td>\n      <td>Ed Sheeran</td>\n      <td>NaN</td>\n      <td>50nfwKoDiSYg8zOCREWAm5</td>\n      <td>10/29/2021</td>\n      <td>day</td>\n      <td>0.788</td>\n      <td>0.859</td>\n      <td>2.0</td>\n      <td>-2.724</td>\n      <td>...</td>\n      <td>0.000000</td>\n      <td>0.0424</td>\n      <td>0.822</td>\n      <td>141.020</td>\n      <td>4.0</td>\n      <td>207853.0</td>\n      <td>i took an arrow to the heart i never kissed a ...</td>\n      <td>88.0</td>\n      <td>7</td>\n      <td>[took, arrow, heart, never, kissed, mouth, tas...</td>\n    </tr>\n    <tr>\n      <th>7</th>\n      <td>good 4 u</td>\n      <td>Olivia Rodrigo</td>\n      <td>NaN</td>\n      <td>4ZtFanR9U6ndgddUvNcjcG</td>\n      <td>5/21/2021</td>\n      <td>day</td>\n      <td>0.563</td>\n      <td>0.664</td>\n      <td>9.0</td>\n      <td>-5.044</td>\n      <td>...</td>\n      <td>0.000000</td>\n      <td>0.0849</td>\n      <td>0.688</td>\n      <td>166.928</td>\n      <td>4.0</td>\n      <td>178147.0</td>\n      <td>ah  well good for you i guess you moved on rea...</td>\n      <td>88.0</td>\n      <td>1</td>\n      <td>[ah, well, good, guess, moved, really, easily,...</td>\n    </tr>\n    <tr>\n      <th>8</th>\n      <td>Need to Know</td>\n      <td>Doja Cat</td>\n      <td>NaN</td>\n      <td>3Vi5XqYrmQgOYBajMWSvCi</td>\n      <td>6/25/2021</td>\n      <td>day</td>\n      <td>0.664</td>\n      <td>0.609</td>\n      <td>1.0</td>\n      <td>-6.509</td>\n      <td>...</td>\n      <td>0.000000</td>\n      <td>0.0926</td>\n      <td>0.194</td>\n      <td>130.041</td>\n      <td>4.0</td>\n      <td>210560.0</td>\n      <td>yeah  wanna know what it's like like baby show...</td>\n      <td>84.0</td>\n      <td>9</td>\n      <td>[yeah, wanna, know, like, baby, show, really, ...</td>\n    </tr>\n    <tr>\n      <th>9</th>\n      <td>Levitating (feat. DaBaby)</td>\n      <td>Dua Lipa</td>\n      <td>DaBaby</td>\n      <td>5nujrmhLynf4yMoMtj8AQF</td>\n      <td>3/27/2020</td>\n      <td>day</td>\n      <td>0.702</td>\n      <td>0.825</td>\n      <td>6.0</td>\n      <td>-3.787</td>\n      <td>...</td>\n      <td>0.000000</td>\n      <td>0.0674</td>\n      <td>0.915</td>\n      <td>102.977</td>\n      <td>4.0</td>\n      <td>203064.0</td>\n      <td>if you wanna run away with me i know a galaxy ...</td>\n      <td>85.0</td>\n      <td>2</td>\n      <td>[wanna, run, away, know, galaxy, take, ride, p...</td>\n    </tr>\n  </tbody>\n</table>\n<p>10 rows × 23 columns</p>\n</div>"
     },
     "execution_count": 31,
     "metadata": {},
     "output_type": "execute_result"
    }
   ],
   "source": [
    "#Stores unique words of each lyrics song into a new column called words\n",
    "#list used to store the words\n",
    "words = []\n",
    "#iterate trought each lyric and split unique words appending the result into the words list\n",
    "df = df.reset_index(drop=True)\n",
    "for word in df['lyrics'].tolist():\n",
    "    words.append(unique(lyrics_to_words(word).split()))\n",
    "#create the new column with the information of words lists\n",
    "df['words'] = words\n",
    "df.head(10)"
   ],
   "metadata": {
    "collapsed": false,
    "pycharm": {
     "name": "#%%\n"
    }
   }
  },
  {
   "cell_type": "code",
   "execution_count": 32,
   "outputs": [
    {
     "data": {
      "text/plain": "                                    song          artist           features  \\\n0                             Easy On Me           Adele                NaN   \n1              STAY (with Justin Bieber)   The Kid LAROI      Justin Bieber   \n2      INDUSTRY BABY (feat. Jack Harlow)       Lil Nas X        Jack Harlow   \n3                             Fancy Like    Walker Hayes                NaN   \n4                             Bad Habits      Ed Sheeran                NaN   \n5  Way 2 Sexy (with Future & Young Thug)           Drake  Future,Young Thug   \n6                                Shivers      Ed Sheeran                NaN   \n7                               good 4 u  Olivia Rodrigo                NaN   \n8                           Need to Know        Doja Cat                NaN   \n9              Levitating (feat. DaBaby)        Dua Lipa             DaBaby   \n\n                 track_id release_date release_date_precision  danceability  \\\n0  0gplL1WMoJ6iYaPgMCL0gX   10/14/2021                    day         0.604   \n1  5HCyWlXZPP0y6Gqq8TgA20     7/9/2021                    day         0.591   \n2  27NovPIUIRrOZoCHxABJwK    7/23/2021                    day         0.736   \n3  58UKC45GPNTflCN6nwCUeF    1/21/2022                    day         0.647   \n4  3rmo8F54jFF8OgYsqTxm5d   10/29/2021                    day         0.807   \n5  0k1WUmIRnG3xU6fvvDVfRG     9/3/2021                    day         0.803   \n6  50nfwKoDiSYg8zOCREWAm5   10/29/2021                    day         0.788   \n7  4ZtFanR9U6ndgddUvNcjcG    5/21/2021                    day         0.563   \n8  3Vi5XqYrmQgOYBajMWSvCi    6/25/2021                    day         0.664   \n9  5nujrmhLynf4yMoMtj8AQF    3/27/2020                    day         0.702   \n\n   energy   key  loudness  ...  time_signature  duration_ms  \\\n0   0.366   5.0    -7.519  ...             4.0     224695.0   \n1   0.764   1.0    -5.484  ...             4.0     141806.0   \n2   0.704   3.0    -7.409  ...             4.0     212000.0   \n3   0.765   1.0    -6.459  ...             4.0     161853.0   \n4   0.893  11.0    -3.745  ...             4.0     230747.0   \n5   0.597  11.0    -6.035  ...             4.0     257605.0   \n6   0.859   2.0    -2.724  ...             4.0     207853.0   \n7   0.664   9.0    -5.044  ...             4.0     178147.0   \n8   0.609   1.0    -6.509  ...             4.0     210560.0   \n9   0.825   6.0    -3.787  ...             4.0     203064.0   \n\n                                              lyrics  popularity  peak-rank  \\\n0  there ain't no gold in this river that i've be...        85.0          1   \n1  the kid laroi i do the same thing i told you t...        89.0          1   \n2  lil nas x  dddaytrip took it to ten hey  baby ...        86.0          1   \n3  ayy my girl is bangin' she's so low maintenanc...        78.0          3   \n4  one two three four ooh ooh  every time you com...        89.0          2   \n5  right said fred  i'm too sexy for my shirt too...        81.0          1   \n6  i took an arrow to the heart i never kissed a ...        88.0          7   \n7  ah  well good for you i guess you moved on rea...        88.0          1   \n8  yeah  wanna know what it's like like baby show...        84.0          9   \n9  if you wanna run away with me i know a galaxy ...        85.0          2   \n\n                                               words  negative  neutral  \\\n0  [aint, gold, river, ive, washin, hand, forever...     0.043    0.745   \n1  [kid, laroi, thing, told, never, would, id, ch...     0.105    0.820   \n2  [lil, na, x, dddaytrip, took, ten, hey, baby, ...     0.028    0.753   \n3  [ayy, girl, bangin, low, maintenance, need, ch...     0.016    0.686   \n4  [one, two, three, four, ooh, every, time, come...     0.197    0.723   \n5  [right, said, fred, im, sexy, shirt, hurt, mil...     0.034    0.502   \n6  [took, arrow, heart, never, kissed, mouth, tas...     0.024    0.787   \n7  [ah, well, good, guess, moved, really, easily,...     0.054    0.682   \n8  [yeah, wanna, know, like, baby, show, really, ...     0.095    0.727   \n9  [wanna, run, away, know, galaxy, take, ride, p...     0.012    0.836   \n\n   positive compound  \n0     0.211   0.9888  \n1     0.074  -0.8230  \n2     0.219   0.9921  \n3     0.298   0.9966  \n4     0.080  -0.9671  \n5     0.464   0.9994  \n6     0.189   0.9901  \n7     0.264   0.9968  \n8     0.178   0.9354  \n9     0.153   0.9722  \n\n[10 rows x 27 columns]",
      "text/html": "<div>\n<style scoped>\n    .dataframe tbody tr th:only-of-type {\n        vertical-align: middle;\n    }\n\n    .dataframe tbody tr th {\n        vertical-align: top;\n    }\n\n    .dataframe thead th {\n        text-align: right;\n    }\n</style>\n<table border=\"1\" class=\"dataframe\">\n  <thead>\n    <tr style=\"text-align: right;\">\n      <th></th>\n      <th>song</th>\n      <th>artist</th>\n      <th>features</th>\n      <th>track_id</th>\n      <th>release_date</th>\n      <th>release_date_precision</th>\n      <th>danceability</th>\n      <th>energy</th>\n      <th>key</th>\n      <th>loudness</th>\n      <th>...</th>\n      <th>time_signature</th>\n      <th>duration_ms</th>\n      <th>lyrics</th>\n      <th>popularity</th>\n      <th>peak-rank</th>\n      <th>words</th>\n      <th>negative</th>\n      <th>neutral</th>\n      <th>positive</th>\n      <th>compound</th>\n    </tr>\n  </thead>\n  <tbody>\n    <tr>\n      <th>0</th>\n      <td>Easy On Me</td>\n      <td>Adele</td>\n      <td>NaN</td>\n      <td>0gplL1WMoJ6iYaPgMCL0gX</td>\n      <td>10/14/2021</td>\n      <td>day</td>\n      <td>0.604</td>\n      <td>0.366</td>\n      <td>5.0</td>\n      <td>-7.519</td>\n      <td>...</td>\n      <td>4.0</td>\n      <td>224695.0</td>\n      <td>there ain't no gold in this river that i've be...</td>\n      <td>85.0</td>\n      <td>1</td>\n      <td>[aint, gold, river, ive, washin, hand, forever...</td>\n      <td>0.043</td>\n      <td>0.745</td>\n      <td>0.211</td>\n      <td>0.9888</td>\n    </tr>\n    <tr>\n      <th>1</th>\n      <td>STAY (with Justin Bieber)</td>\n      <td>The Kid LAROI</td>\n      <td>Justin Bieber</td>\n      <td>5HCyWlXZPP0y6Gqq8TgA20</td>\n      <td>7/9/2021</td>\n      <td>day</td>\n      <td>0.591</td>\n      <td>0.764</td>\n      <td>1.0</td>\n      <td>-5.484</td>\n      <td>...</td>\n      <td>4.0</td>\n      <td>141806.0</td>\n      <td>the kid laroi i do the same thing i told you t...</td>\n      <td>89.0</td>\n      <td>1</td>\n      <td>[kid, laroi, thing, told, never, would, id, ch...</td>\n      <td>0.105</td>\n      <td>0.820</td>\n      <td>0.074</td>\n      <td>-0.8230</td>\n    </tr>\n    <tr>\n      <th>2</th>\n      <td>INDUSTRY BABY (feat. Jack Harlow)</td>\n      <td>Lil Nas X</td>\n      <td>Jack Harlow</td>\n      <td>27NovPIUIRrOZoCHxABJwK</td>\n      <td>7/23/2021</td>\n      <td>day</td>\n      <td>0.736</td>\n      <td>0.704</td>\n      <td>3.0</td>\n      <td>-7.409</td>\n      <td>...</td>\n      <td>4.0</td>\n      <td>212000.0</td>\n      <td>lil nas x  dddaytrip took it to ten hey  baby ...</td>\n      <td>86.0</td>\n      <td>1</td>\n      <td>[lil, na, x, dddaytrip, took, ten, hey, baby, ...</td>\n      <td>0.028</td>\n      <td>0.753</td>\n      <td>0.219</td>\n      <td>0.9921</td>\n    </tr>\n    <tr>\n      <th>3</th>\n      <td>Fancy Like</td>\n      <td>Walker Hayes</td>\n      <td>NaN</td>\n      <td>58UKC45GPNTflCN6nwCUeF</td>\n      <td>1/21/2022</td>\n      <td>day</td>\n      <td>0.647</td>\n      <td>0.765</td>\n      <td>1.0</td>\n      <td>-6.459</td>\n      <td>...</td>\n      <td>4.0</td>\n      <td>161853.0</td>\n      <td>ayy my girl is bangin' she's so low maintenanc...</td>\n      <td>78.0</td>\n      <td>3</td>\n      <td>[ayy, girl, bangin, low, maintenance, need, ch...</td>\n      <td>0.016</td>\n      <td>0.686</td>\n      <td>0.298</td>\n      <td>0.9966</td>\n    </tr>\n    <tr>\n      <th>4</th>\n      <td>Bad Habits</td>\n      <td>Ed Sheeran</td>\n      <td>NaN</td>\n      <td>3rmo8F54jFF8OgYsqTxm5d</td>\n      <td>10/29/2021</td>\n      <td>day</td>\n      <td>0.807</td>\n      <td>0.893</td>\n      <td>11.0</td>\n      <td>-3.745</td>\n      <td>...</td>\n      <td>4.0</td>\n      <td>230747.0</td>\n      <td>one two three four ooh ooh  every time you com...</td>\n      <td>89.0</td>\n      <td>2</td>\n      <td>[one, two, three, four, ooh, every, time, come...</td>\n      <td>0.197</td>\n      <td>0.723</td>\n      <td>0.080</td>\n      <td>-0.9671</td>\n    </tr>\n    <tr>\n      <th>5</th>\n      <td>Way 2 Sexy (with Future &amp; Young Thug)</td>\n      <td>Drake</td>\n      <td>Future,Young Thug</td>\n      <td>0k1WUmIRnG3xU6fvvDVfRG</td>\n      <td>9/3/2021</td>\n      <td>day</td>\n      <td>0.803</td>\n      <td>0.597</td>\n      <td>11.0</td>\n      <td>-6.035</td>\n      <td>...</td>\n      <td>4.0</td>\n      <td>257605.0</td>\n      <td>right said fred  i'm too sexy for my shirt too...</td>\n      <td>81.0</td>\n      <td>1</td>\n      <td>[right, said, fred, im, sexy, shirt, hurt, mil...</td>\n      <td>0.034</td>\n      <td>0.502</td>\n      <td>0.464</td>\n      <td>0.9994</td>\n    </tr>\n    <tr>\n      <th>6</th>\n      <td>Shivers</td>\n      <td>Ed Sheeran</td>\n      <td>NaN</td>\n      <td>50nfwKoDiSYg8zOCREWAm5</td>\n      <td>10/29/2021</td>\n      <td>day</td>\n      <td>0.788</td>\n      <td>0.859</td>\n      <td>2.0</td>\n      <td>-2.724</td>\n      <td>...</td>\n      <td>4.0</td>\n      <td>207853.0</td>\n      <td>i took an arrow to the heart i never kissed a ...</td>\n      <td>88.0</td>\n      <td>7</td>\n      <td>[took, arrow, heart, never, kissed, mouth, tas...</td>\n      <td>0.024</td>\n      <td>0.787</td>\n      <td>0.189</td>\n      <td>0.9901</td>\n    </tr>\n    <tr>\n      <th>7</th>\n      <td>good 4 u</td>\n      <td>Olivia Rodrigo</td>\n      <td>NaN</td>\n      <td>4ZtFanR9U6ndgddUvNcjcG</td>\n      <td>5/21/2021</td>\n      <td>day</td>\n      <td>0.563</td>\n      <td>0.664</td>\n      <td>9.0</td>\n      <td>-5.044</td>\n      <td>...</td>\n      <td>4.0</td>\n      <td>178147.0</td>\n      <td>ah  well good for you i guess you moved on rea...</td>\n      <td>88.0</td>\n      <td>1</td>\n      <td>[ah, well, good, guess, moved, really, easily,...</td>\n      <td>0.054</td>\n      <td>0.682</td>\n      <td>0.264</td>\n      <td>0.9968</td>\n    </tr>\n    <tr>\n      <th>8</th>\n      <td>Need to Know</td>\n      <td>Doja Cat</td>\n      <td>NaN</td>\n      <td>3Vi5XqYrmQgOYBajMWSvCi</td>\n      <td>6/25/2021</td>\n      <td>day</td>\n      <td>0.664</td>\n      <td>0.609</td>\n      <td>1.0</td>\n      <td>-6.509</td>\n      <td>...</td>\n      <td>4.0</td>\n      <td>210560.0</td>\n      <td>yeah  wanna know what it's like like baby show...</td>\n      <td>84.0</td>\n      <td>9</td>\n      <td>[yeah, wanna, know, like, baby, show, really, ...</td>\n      <td>0.095</td>\n      <td>0.727</td>\n      <td>0.178</td>\n      <td>0.9354</td>\n    </tr>\n    <tr>\n      <th>9</th>\n      <td>Levitating (feat. DaBaby)</td>\n      <td>Dua Lipa</td>\n      <td>DaBaby</td>\n      <td>5nujrmhLynf4yMoMtj8AQF</td>\n      <td>3/27/2020</td>\n      <td>day</td>\n      <td>0.702</td>\n      <td>0.825</td>\n      <td>6.0</td>\n      <td>-3.787</td>\n      <td>...</td>\n      <td>4.0</td>\n      <td>203064.0</td>\n      <td>if you wanna run away with me i know a galaxy ...</td>\n      <td>85.0</td>\n      <td>2</td>\n      <td>[wanna, run, away, know, galaxy, take, ride, p...</td>\n      <td>0.012</td>\n      <td>0.836</td>\n      <td>0.153</td>\n      <td>0.9722</td>\n    </tr>\n  </tbody>\n</table>\n<p>10 rows × 27 columns</p>\n</div>"
     },
     "execution_count": 32,
     "metadata": {},
     "output_type": "execute_result"
    }
   ],
   "source": [
    "#Create lists to store the different scores for each word\n",
    "negative = []\n",
    "neutral = []\n",
    "positive = []\n",
    "compound = []\n",
    "#Initialize the model\n",
    "sid = SentimentIntensityAnalyzer()\n",
    "#Iterate for each row of lyrics and append the scores\n",
    "for i in df.index:\n",
    "    scores = sid.polarity_scores(df['lyrics'].iloc[i])\n",
    "    negative.append(scores['neg'])\n",
    "    neutral.append(scores['neu'])\n",
    "    positive.append(scores['pos'])\n",
    "    compound.append(scores['compound'])\n",
    "#Create 4 columns to the main data frame  for each score\n",
    "df['negative'] = negative\n",
    "df['neutral'] = neutral\n",
    "df['positive'] = positive\n",
    "df['compound'] = compound\n",
    "df.head(10)"
   ],
   "metadata": {
    "collapsed": false,
    "pycharm": {
     "name": "#%%\n"
    }
   }
  },
  {
   "cell_type": "code",
   "execution_count": 33,
   "outputs": [
    {
     "name": "stdout",
     "output_type": "stream",
     "text": [
      "(22125, 27)\n"
     ]
    }
   ],
   "source": [
    "df = df[df['release_date'].notna()]\n",
    "\n",
    "print(df.shape)\n",
    "df['release_date'] = pd.to_datetime(df['release_date']).dt.year\n",
    "df = df.drop(columns = 'release_date_precision')\n",
    "df.head()\n",
    "df.to_csv('lyrics.csv',index=False)"
   ],
   "metadata": {
    "collapsed": false,
    "pycharm": {
     "name": "#%%\n"
    }
   }
  },
  {
   "cell_type": "code",
   "execution_count": 34,
   "outputs": [
    {
     "name": "stdout",
     "output_type": "stream",
     "text": [
      "['doo', 'well', 'went', 'dance', 'night', 'oooh', 'everybody', 'stag', 'said', 'gonna', 'drag', 'aonce', 'happened', 'prettiest', 'world', 'please', 'awont', 'come', 'talk', 'anda', 'girl', 'thata', 'sorry', 'little', 'bit', 'late', 'would', 'wait', 'steady', 'date']\n"
     ]
    }
   ],
   "source": [
    "# print(df.iloc[22123]['words'])"
   ],
   "metadata": {
    "collapsed": false,
    "pycharm": {
     "name": "#%%\n"
    }
   }
  },
  {
   "cell_type": "code",
   "execution_count": 40,
   "outputs": [
    {
     "ename": "MemoryError",
     "evalue": "Unable to allocate 64.5 GiB for an array with shape (1406803, 49197) and data type int8",
     "output_type": "error",
     "traceback": [
      "\u001B[1;31m---------------------------------------------------------------------------\u001B[0m",
      "\u001B[1;31mMemoryError\u001B[0m                               Traceback (most recent call last)",
      "Cell \u001B[1;32mIn [40], line 24\u001B[0m\n\u001B[0;32m     22\u001B[0m \u001B[38;5;66;03m#Create a dataframe called data_cv to store the the number of times the word was used in  a lyric based their decades\u001B[39;00m\n\u001B[0;32m     23\u001B[0m text_cv \u001B[38;5;241m=\u001B[39m cv\u001B[38;5;241m.\u001B[39mfit_transform(words_df[\u001B[38;5;124m'\u001B[39m\u001B[38;5;124mwords\u001B[39m\u001B[38;5;124m'\u001B[39m]\u001B[38;5;241m.\u001B[39miloc[:])\n\u001B[1;32m---> 24\u001B[0m data_cv \u001B[38;5;241m=\u001B[39m pd\u001B[38;5;241m.\u001B[39mDataFrame(\u001B[43mtext_cv\u001B[49m\u001B[38;5;241;43m.\u001B[39;49m\u001B[43mastype\u001B[49m\u001B[43m(\u001B[49m\u001B[38;5;124;43m'\u001B[39;49m\u001B[38;5;124;43mint8\u001B[39;49m\u001B[38;5;124;43m'\u001B[39;49m\u001B[43m)\u001B[49m\u001B[38;5;241;43m.\u001B[39;49m\u001B[43mtoarray\u001B[49m\u001B[43m(\u001B[49m\u001B[43m)\u001B[49m,columns\u001B[38;5;241m=\u001B[39mcv\u001B[38;5;241m.\u001B[39mget_feature_names())\n\u001B[0;32m     25\u001B[0m data_cv[\u001B[38;5;124m'\u001B[39m\u001B[38;5;124myear\u001B[39m\u001B[38;5;124m'\u001B[39m] \u001B[38;5;241m=\u001B[39m words_df[\u001B[38;5;124m'\u001B[39m\u001B[38;5;124myear\u001B[39m\u001B[38;5;124m'\u001B[39m]\n\u001B[0;32m     26\u001B[0m \u001B[38;5;66;03m#created a dataframe that Sums the ocurrence frequency of each word and group the result by year\u001B[39;00m\n",
      "File \u001B[1;32mc:\\users\\annan\\appdata\\local\\programs\\python\\python38\\lib\\site-packages\\scipy\\sparse\\_compressed.py:1051\u001B[0m, in \u001B[0;36m_cs_matrix.toarray\u001B[1;34m(self, order, out)\u001B[0m\n\u001B[0;32m   1049\u001B[0m \u001B[38;5;28;01mif\u001B[39;00m out \u001B[38;5;129;01mis\u001B[39;00m \u001B[38;5;28;01mNone\u001B[39;00m \u001B[38;5;129;01mand\u001B[39;00m order \u001B[38;5;129;01mis\u001B[39;00m \u001B[38;5;28;01mNone\u001B[39;00m:\n\u001B[0;32m   1050\u001B[0m     order \u001B[38;5;241m=\u001B[39m \u001B[38;5;28mself\u001B[39m\u001B[38;5;241m.\u001B[39m_swap(\u001B[38;5;124m'\u001B[39m\u001B[38;5;124mcf\u001B[39m\u001B[38;5;124m'\u001B[39m)[\u001B[38;5;241m0\u001B[39m]\n\u001B[1;32m-> 1051\u001B[0m out \u001B[38;5;241m=\u001B[39m \u001B[38;5;28;43mself\u001B[39;49m\u001B[38;5;241;43m.\u001B[39;49m\u001B[43m_process_toarray_args\u001B[49m\u001B[43m(\u001B[49m\u001B[43morder\u001B[49m\u001B[43m,\u001B[49m\u001B[43m \u001B[49m\u001B[43mout\u001B[49m\u001B[43m)\u001B[49m\n\u001B[0;32m   1052\u001B[0m \u001B[38;5;28;01mif\u001B[39;00m \u001B[38;5;129;01mnot\u001B[39;00m (out\u001B[38;5;241m.\u001B[39mflags\u001B[38;5;241m.\u001B[39mc_contiguous \u001B[38;5;129;01mor\u001B[39;00m out\u001B[38;5;241m.\u001B[39mflags\u001B[38;5;241m.\u001B[39mf_contiguous):\n\u001B[0;32m   1053\u001B[0m     \u001B[38;5;28;01mraise\u001B[39;00m \u001B[38;5;167;01mValueError\u001B[39;00m(\u001B[38;5;124m'\u001B[39m\u001B[38;5;124mOutput array must be C or F contiguous\u001B[39m\u001B[38;5;124m'\u001B[39m)\n",
      "File \u001B[1;32mc:\\users\\annan\\appdata\\local\\programs\\python\\python38\\lib\\site-packages\\scipy\\sparse\\_base.py:1298\u001B[0m, in \u001B[0;36mspmatrix._process_toarray_args\u001B[1;34m(self, order, out)\u001B[0m\n\u001B[0;32m   1296\u001B[0m     \u001B[38;5;28;01mreturn\u001B[39;00m out\n\u001B[0;32m   1297\u001B[0m \u001B[38;5;28;01melse\u001B[39;00m:\n\u001B[1;32m-> 1298\u001B[0m     \u001B[38;5;28;01mreturn\u001B[39;00m \u001B[43mnp\u001B[49m\u001B[38;5;241;43m.\u001B[39;49m\u001B[43mzeros\u001B[49m\u001B[43m(\u001B[49m\u001B[38;5;28;43mself\u001B[39;49m\u001B[38;5;241;43m.\u001B[39;49m\u001B[43mshape\u001B[49m\u001B[43m,\u001B[49m\u001B[43m \u001B[49m\u001B[43mdtype\u001B[49m\u001B[38;5;241;43m=\u001B[39;49m\u001B[38;5;28;43mself\u001B[39;49m\u001B[38;5;241;43m.\u001B[39;49m\u001B[43mdtype\u001B[49m\u001B[43m,\u001B[49m\u001B[43m \u001B[49m\u001B[43morder\u001B[49m\u001B[38;5;241;43m=\u001B[39;49m\u001B[43morder\u001B[49m\u001B[43m)\u001B[49m\n",
      "\u001B[1;31mMemoryError\u001B[0m: Unable to allocate 64.5 GiB for an array with shape (1406803, 49197) and data type int8"
     ]
    }
   ],
   "source": [
    "# #Create a new dataframe of all the  words used in lyrics and its decades\n",
    "# #list used to store the information\n",
    "# set_words = []\n",
    "# set_years = []\n",
    "# #Iterate trought each word and year and stores them into the new lists\n",
    "# for index, row in df.iterrows():\n",
    "#     for word in row['words']:\n",
    "#         set_words.append(word)\n",
    "#         set_years.append(row['release_date'])\n",
    "# # print(len(set_words))\n",
    "# # with open('check2.txt', 'w') as f:\n",
    "# #     for item in set_words:\n",
    "# #             # write each item on a new line\n",
    "# #             f.write(item + \",\" + set_years + \"\\n\" )\n",
    "# # print(\"done\")\n",
    "# #create the new data frame  with the information of words and year lists\n",
    "# words_df = pd.DataFrame({'words':set_words,'year':set_years})\n",
    "# #Defined  your own Stopwords in case the clean data function does not remove all of them\n",
    "# stop_words =[]\n",
    "# # count the frequency of each word that aren't on the stop_words lists\n",
    "# cv = CountVectorizer(stop_words=stop_words)\n",
    "# #Create a dataframe called data_cv to store the the number of times the word was used in  a lyric based their decades\n",
    "# text_cv = cv.fit_transform(words_df['words'].iloc[:])\n",
    "# data_cv = pd.DataFrame(text_cv.astype('int8').toarray(),columns=cv.get_feature_names())\n",
    "# data_cv['year'] = words_df['year']\n",
    "# #created a dataframe that Sums the ocurrence frequency of each word and group the result by year\n",
    "# vect_words = data_cv.groupby('year').sum().T\n",
    "# vect_words = vect_words.reset_index(level=0).rename(columns ={'index':'words'})\n",
    "# vect_words = vect_words.rename_axis(columns='')\n",
    "# #Save the data into a csv file\n",
    "# vect_words.to_csv('words.csv',index=False)\n",
    "# #change the order of columns to order from the oldest to actual year"
   ],
   "metadata": {
    "collapsed": false,
    "pycharm": {
     "name": "#%%\n"
    }
   }
  },
  {
   "cell_type": "code",
   "execution_count": null,
   "outputs": [],
   "source": [],
   "metadata": {
    "collapsed": false,
    "pycharm": {
     "name": "#%%\n"
    }
   }
  }
 ],
 "metadata": {
  "kernelspec": {
   "display_name": "Python 3",
   "language": "python",
   "name": "python3"
  },
  "language_info": {
   "codemirror_mode": {
    "name": "ipython",
    "version": 2
   },
   "file_extension": ".py",
   "mimetype": "text/x-python",
   "name": "python",
   "nbconvert_exporter": "python",
   "pygments_lexer": "ipython2",
   "version": "2.7.6"
  }
 },
 "nbformat": 4,
 "nbformat_minor": 0
}